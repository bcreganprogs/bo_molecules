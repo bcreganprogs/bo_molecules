{
 "cells": [
  {
   "cell_type": "markdown",
   "metadata": {},
   "source": [
    "# Generating PMO Comparison Plots"
   ]
  },
  {
   "cell_type": "markdown",
   "metadata": {},
   "source": [
    "The aim of this file is to produce the lines that extract the performance for other methods from the PMO benchmark and store them for future plotting."
   ]
  },
  {
   "cell_type": "markdown",
   "metadata": {},
   "source": [
    "## Setup"
   ]
  },
  {
   "cell_type": "markdown",
   "metadata": {},
   "source": [
    "### Change Working Directory"
   ]
  },
  {
   "cell_type": "code",
   "execution_count": 1,
   "metadata": {},
   "outputs": [
    {
     "name": "stdout",
     "output_type": "stream",
     "text": [
      "New working directory: /vol/project/2023/70079/g237007905/bo_molecules\n"
     ]
    }
   ],
   "source": [
    "# Change working directory to the parent of the parent of the script\n",
    "\n",
    "import os\n",
    "\n",
    "# Get the current working directory\n",
    "current_directory = os.getcwd()\n",
    "\n",
    "# Get the parent of the parent directory\n",
    "parent_parent_directory = os.path.abspath(os.path.join(current_directory, '..', '..'))\n",
    "\n",
    "# Change the working directory to the parent of the parent directory\n",
    "os.chdir(parent_parent_directory)\n",
    "\n",
    "# Verify the change by printing the new working directory\n",
    "print(\"New working directory:\", os.getcwd())\n"
   ]
  },
  {
   "cell_type": "markdown",
   "metadata": {},
   "source": [
    "### Imports"
   ]
  },
  {
   "cell_type": "code",
   "execution_count": 2,
   "metadata": {},
   "outputs": [
    {
     "name": "stderr",
     "output_type": "stream",
     "text": [
      "/vol/project/2023/70079/g237007905/bo_molecules/venv/lib/python3.10/site-packages/tqdm/auto.py:21: TqdmWarning: IProgress not found. Please update jupyter and ipywidgets. See https://ipywidgets.readthedocs.io/en/stable/user_install.html\n",
      "  from .autonotebook import tqdm as notebook_tqdm\n"
     ]
    }
   ],
   "source": [
    "# Standard library\n",
    "import random\n",
    "import json\n",
    "from typing import List\n",
    "\n",
    "\n",
    "# Third-party\n",
    "import gpytorch\n",
    "import torch\n",
    "from tdc import Oracle\n",
    "from gauche.kernels.graph_kernels import WeisfeilerLehmanKernel\n",
    "import matplotlib.pyplot as plt\n",
    "import pandas as pd\n",
    "import numpy as np\n",
    "from sklearn.metrics import mean_squared_error, r2_score\n",
    "from gauche import SIGP, NonTensorialInputs\n",
    "\n",
    "from botorch.fit import fit_gpytorch_mll, fit_gpytorch_mll\n",
    "from botorch.settings import debug\n",
    "from botorch.exceptions.errors import ModelFittingError"
   ]
  },
  {
   "cell_type": "markdown",
   "metadata": {},
   "source": [
    "### Configurations"
   ]
  },
  {
   "cell_type": "code",
   "execution_count": 3,
   "metadata": {},
   "outputs": [
    {
     "name": "stdout",
     "output_type": "stream",
     "text": [
      "Loading data from/ Saving data to: \n",
      "experiments/pmo_benchmarking_comparison_plots/lines_from_graph_paper/albuterol_similarity/\n"
     ]
    }
   ],
   "source": [
    "# Specify the oracle. Currently, only 'albuterol_similarity' is supported\n",
    "oracle_name = \"albuterol_similarity\"\n",
    "\n",
    "# Directory from where to load and save the data\n",
    "storage_dir = f\"experiments/pmo_benchmarking_comparison_plots/lines_from_graph_paper/{oracle_name}/\"\n",
    "\n",
    "print(f\"Loading data from/ Saving data to: \\n{storage_dir}\")"
   ]
  },
  {
   "cell_type": "markdown",
   "metadata": {},
   "source": [
    "### Utility Functions"
   ]
  },
  {
   "cell_type": "code",
   "execution_count": 4,
   "metadata": {},
   "outputs": [],
   "source": [
    "def load_pmo_lines(file_path: str,\n",
    "                    storage_dir: str,\n",
    "                    storage_file_name: str,\n",
    "                    start_iteration: int = 1,\n",
    "                    start_value: float = 0,\n",
    "                    save_results: bool = True) -> List[float]:\n",
    "    \"\"\" \n",
    "    Loads oracle values for a single line of the PMO data.\n",
    "    \n",
    "    Args:\n",
    "        file_path: Path to the PMO data CSV file.\n",
    "        storage_dir: Directory to store the results.\n",
    "        storage_file_name: Name of the file to store the results. \n",
    "        start_iteration: Iteration to start from.\n",
    "        start_value: Starting oracle score for the plots.\n",
    "        results_array: Array to store the results.\n",
    "        save_results: Whether to save the results.\n",
    "        \n",
    "    Returns:\n",
    "        List[float]: Cleaned and processed PMO plot values.\n",
    "    \"\"\"\n",
    "    # Initialize the raw data array as an empty list of tuples\n",
    "    raw_data = []\n",
    "    \n",
    "    # Load the data as csv\n",
    "    with open(file_path, 'r') as file:\n",
    "        for line in file:\n",
    "            single_entry = line.strip().split(',')\n",
    "            raw_data.append((int(float(single_entry[0])), float(single_entry[1])))\n",
    "            \n",
    "    # Sort raw data by iteration\n",
    "    raw_data.sort(key=lambda x: x[0])\n",
    "    \n",
    "    cleaned_array = []\n",
    "    \n",
    "    relevant_oracle_score = start_value\n",
    "        \n",
    "    # Pad data with NaNs when starting from a later iteration\n",
    "    for iteration in range(1, start_iteration, 1):\n",
    "        cleaned_array.append(np.nan)\n",
    "\n",
    "    # Iteratively add data for each iteration\n",
    "    for iteration in range(start_iteration, 10001, 1):\n",
    "        if raw_data == []:\n",
    "            cleaned_array.append(relevant_oracle_score)\n",
    "            continue\n",
    "\n",
    "        elif raw_data[0][0] > iteration:\n",
    "            cleaned_array.append(relevant_oracle_score)\n",
    "        \n",
    "        else:\n",
    "            relevant_oracle_score = round((raw_data[0][1]), 2)\n",
    "            raw_data.pop(0)\n",
    "            \n",
    "            # Approximate scores close to 1 as 1\n",
    "            if relevant_oracle_score > 0.995:\n",
    "                relevant_oracle_score = 1.0\n",
    "            \n",
    "            # Clip negative scores to 0\n",
    "            elif relevant_oracle_score < 0.0:\n",
    "                relevant_oracle_score = 0.0\n",
    "                \n",
    "            cleaned_array.append(relevant_oracle_score)\n",
    "    \n",
    "    # Save the results\n",
    "    if save_results:\n",
    "        storage_file = storage_dir + storage_file_name\n",
    "        with open(storage_file, 'w') as f:\n",
    "            json.dump(cleaned_array, f)\n",
    "    \n",
    "    return cleaned_array\n",
    "    "
   ]
  },
  {
   "cell_type": "markdown",
   "metadata": {},
   "source": [
<<<<<<< Updated upstream
    "### Specifications"
   ]
  },
  {
   "cell_type": "markdown",
   "metadata": {},
   "source": [
    "This was left purposefully empty. Please see later sections for lines that are supposed to be loaded."
   ]
  },
  {
   "cell_type": "markdown",
   "metadata": {},
   "source": [
    "### Generate and Store the PMO Comparison Lines for Albuterol"
=======
    "### Generate and Store the PMO Comparison Lines"
>>>>>>> Stashed changes
   ]
  },
  {
   "cell_type": "code",
   "execution_count": 5,
   "metadata": {},
   "outputs": [],
   "source": [
    "# Load PMO data for the GP BO model\n",
    "model_name = \"GP BO\"\n",
    "storage_file_nm = \"gp_bo.json\"\n",
    "start_iteration = 10\n",
    "start_value = 0.185\n",
    "\n",
    "gp_bo = load_pmo_lines(\n",
    "    file_path=f\"{storage_dir}{model_name}.csv\",\n",
    "    storage_dir=storage_dir,\n",
    "    storage_file_name = storage_file_nm,\n",
    "    start_iteration=start_iteration,\n",
    "    start_value=start_value\n",
    ")"
   ]
  },
  {
   "cell_type": "code",
   "execution_count": 6,
   "metadata": {},
   "outputs": [],
   "source": [
    "# Load PMO data for the Graph GA model\n",
    "model_name = \"Graph GA\"\n",
    "storage_file_nm = \"graph_ga.json\"\n",
    "start_iteration = 10\n",
    "start_value = 0.18\n",
    "\n",
    "graph_ga = load_pmo_lines(\n",
    "    file_path=f\"{storage_dir}{model_name}.csv\",\n",
    "    storage_dir=storage_dir,\n",
    "    storage_file_name = storage_file_nm,\n",
    "    start_iteration=start_iteration,\n",
    "    start_value=start_value\n",
    ")"
   ]
  },
  {
   "cell_type": "code",
   "execution_count": 7,
   "metadata": {},
   "outputs": [],
   "source": [
    "# Load PMO data for the MolPAL model\n",
    "model_name = \"MolPAL\"\n",
    "storage_file_nm = \"mol_pal.json\"\n",
    "start_iteration = 10\n",
    "start_value = 0.19\n",
    "\n",
    "molpal = load_pmo_lines(\n",
    "    file_path=f\"{storage_dir}{model_name}.csv\",\n",
    "    storage_dir=storage_dir,\n",
    "    storage_file_name = storage_file_nm,\n",
    "    start_iteration=start_iteration,\n",
    "    start_value=start_value\n",
    ")"
   ]
  },
  {
   "cell_type": "code",
   "execution_count": 8,
   "metadata": {},
   "outputs": [],
   "source": [
    "# Load PMO data for the REINVENT model\n",
    "model_name = \"REINVENT\"\n",
    "storage_file_nm = \"reinvent.json\"\n",
    "start_iteration = 10\n",
    "start_value = 0.195\n",
    "\n",
    "reinvent = load_pmo_lines(\n",
    "    file_path=f\"{storage_dir}{model_name}.csv\",\n",
    "    storage_dir=storage_dir,\n",
    "    storage_file_name = storage_file_nm,\n",
    "    start_iteration=start_iteration,\n",
    "    start_value=start_value\n",
    ")"
   ]
  }
 ],
 "metadata": {
  "kernelspec": {
   "display_name": "bo_mol_venv",
   "language": "python",
   "name": "python3"
  },
  "language_info": {
   "codemirror_mode": {
    "name": "ipython",
    "version": 3
   },
   "file_extension": ".py",
   "mimetype": "text/x-python",
   "name": "python",
   "nbconvert_exporter": "python",
   "pygments_lexer": "ipython3",
   "version": "3.10.12"
  }
 },
 "nbformat": 4,
 "nbformat_minor": 2
}
