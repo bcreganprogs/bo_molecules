{
 "cells": [
  {
   "cell_type": "markdown",
   "metadata": {},
   "source": [
    "# Generating PMO Comparison Plots"
   ]
  },
  {
   "cell_type": "markdown",
   "metadata": {},
   "source": [
    "The aim of this file is to produce the plots that incorporate both our results on a certain benchmark, as well as the benchmarks for other methods from the PMO benchmark."
   ]
  },
  {
   "cell_type": "markdown",
   "metadata": {},
   "source": [
    "## Setup"
   ]
  },
  {
   "cell_type": "markdown",
   "metadata": {},
   "source": [
    "### Change Working Directory"
   ]
  },
  {
   "cell_type": "code",
   "execution_count": 1,
   "metadata": {},
   "outputs": [
    {
     "name": "stdout",
     "output_type": "stream",
     "text": [
      "New working directory: /vol/project/2023/70079/g237007905/bo_molecules\n"
     ]
    }
   ],
   "source": [
    "# Change working directory to the parent of the parent of the script\n",
    "\n",
    "import os\n",
    "\n",
    "# Get the current working directory\n",
    "current_directory = os.getcwd()\n",
    "\n",
    "# Get the parent of the parent directory\n",
    "parent_parent_directory = os.path.abspath(os.path.join(current_directory, '..', '..'))\n",
    "\n",
    "# Change the working directory to the parent of the parent directory\n",
    "os.chdir(parent_parent_directory)\n",
    "\n",
    "# Verify the change by printing the new working directory\n",
    "print(\"New working directory:\", os.getcwd())\n"
   ]
  },
  {
   "cell_type": "markdown",
   "metadata": {},
   "source": [
    "### Imports"
   ]
  },
  {
   "cell_type": "code",
   "execution_count": 2,
   "metadata": {},
   "outputs": [
    {
     "name": "stderr",
     "output_type": "stream",
     "text": [
      "/vol/project/2023/70079/g237007905/bo_molecules/venv/lib/python3.10/site-packages/tqdm/auto.py:21: TqdmWarning: IProgress not found. Please update jupyter and ipywidgets. See https://ipywidgets.readthedocs.io/en/stable/user_install.html\n",
      "  from .autonotebook import tqdm as notebook_tqdm\n"
     ]
    }
   ],
   "source": [
    "# Standard library imports\n",
    "import random\n",
    "from typing import List\n",
    "\n",
    "\n",
    "# Third-party imports\n",
    "import gpytorch\n",
    "import torch\n",
    "import json\n",
    "from tdc import Oracle\n",
    "from gauche.kernels.graph_kernels import WeisfeilerLehmanKernel\n",
    "import matplotlib.pyplot as plt\n",
    "import seaborn as sns\n",
    "import pandas as pd\n",
    "import numpy as np\n",
    "from sklearn.metrics import mean_squared_error, r2_score\n",
    "from gauche import SIGP, NonTensorialInputs\n",
    "from scipy.ndimage.filters import gaussian_filter1d\n",
    "\n",
    "from botorch.fit import fit_gpytorch_mll, fit_gpytorch_mll\n",
    "from botorch.settings import debug\n",
    "from botorch.exceptions.errors import ModelFittingError"
   ]
  },
  {
   "cell_type": "code",
   "execution_count": 3,
   "metadata": {},
   "outputs": [
    {
     "data": {
      "text/html": [
       "<pre style=\"white-space:pre;overflow-x:auto;line-height:normal;font-family:Menlo,'DejaVu Sans Mono',consolas,'Courier New',monospace\"><span style=\"color: #7fbfbf; text-decoration-color: #7fbfbf\">[04/27/24 17:36:01] </span><span style=\"color: #800000; text-decoration-color: #800000\">WARNING </span> To use the Graphein submodule                                         <a href=\"file:///vol/project/2023/70079/g237007905/bo_molecules/venv/lib/python3.10/site-packages/graphein/protein/features/sequence/embeddings.py\" target=\"_blank\"><span style=\"color: #7f7f7f; text-decoration-color: #7f7f7f\">embeddings.py</span></a><span style=\"color: #7f7f7f; text-decoration-color: #7f7f7f\">:</span><a href=\"file:///vol/project/2023/70079/g237007905/bo_molecules/venv/lib/python3.10/site-packages/graphein/protein/features/sequence/embeddings.py#45\" target=\"_blank\"><span style=\"color: #7f7f7f; text-decoration-color: #7f7f7f\">45</span></a>\n",
       "<span style=\"color: #7fbfbf; text-decoration-color: #7fbfbf\">                    </span>         graphein.protein.features.sequence.embeddings, you need to install:   <span style=\"color: #7f7f7f; text-decoration-color: #7f7f7f\">                </span>\n",
       "<span style=\"color: #7fbfbf; text-decoration-color: #7fbfbf\">                    </span>         biovec                                                                <span style=\"color: #7f7f7f; text-decoration-color: #7f7f7f\">                </span>\n",
       "<span style=\"color: #7fbfbf; text-decoration-color: #7fbfbf\">                    </span>         To do so, use the following command: pip install biovec               <span style=\"color: #7f7f7f; text-decoration-color: #7f7f7f\">                </span>\n",
       "<span style=\"color: #7fbfbf; text-decoration-color: #7fbfbf\">                    </span>         Alternatively, you can install graphein with the extras:              <span style=\"color: #7f7f7f; text-decoration-color: #7f7f7f\">                </span>\n",
       "<span style=\"color: #7fbfbf; text-decoration-color: #7fbfbf\">                    </span>                                                                               <span style=\"color: #7f7f7f; text-decoration-color: #7f7f7f\">                </span>\n",
       "<span style=\"color: #7fbfbf; text-decoration-color: #7fbfbf\">                    </span>         pip install graphein<span style=\"font-weight: bold\">[</span>extras<span style=\"font-weight: bold\">]</span>                                          <span style=\"color: #7f7f7f; text-decoration-color: #7f7f7f\">                </span>\n",
       "</pre>\n"
      ],
      "text/plain": [
       "\u001b[2;36m[04/27/24 17:36:01]\u001b[0m\u001b[2;36m \u001b[0m\u001b[31mWARNING \u001b[0m To use the Graphein submodule                                         \u001b]8;id=700504;file:///vol/project/2023/70079/g237007905/bo_molecules/venv/lib/python3.10/site-packages/graphein/protein/features/sequence/embeddings.py\u001b\\\u001b[2membeddings.py\u001b[0m\u001b]8;;\u001b\\\u001b[2m:\u001b[0m\u001b]8;id=800843;file:///vol/project/2023/70079/g237007905/bo_molecules/venv/lib/python3.10/site-packages/graphein/protein/features/sequence/embeddings.py#45\u001b\\\u001b[2m45\u001b[0m\u001b]8;;\u001b\\\n",
       "\u001b[2;36m                    \u001b[0m         graphein.protein.features.sequence.embeddings, you need to install:   \u001b[2m                \u001b[0m\n",
       "\u001b[2;36m                    \u001b[0m         biovec                                                                \u001b[2m                \u001b[0m\n",
       "\u001b[2;36m                    \u001b[0m         To do so, use the following command: pip install biovec               \u001b[2m                \u001b[0m\n",
       "\u001b[2;36m                    \u001b[0m         Alternatively, you can install graphein with the extras:              \u001b[2m                \u001b[0m\n",
       "\u001b[2;36m                    \u001b[0m                                                                               \u001b[2m                \u001b[0m\n",
       "\u001b[2;36m                    \u001b[0m         pip install graphein\u001b[1m[\u001b[0mextras\u001b[1m]\u001b[0m                                          \u001b[2m                \u001b[0m\n"
      ]
     },
     "metadata": {},
     "output_type": "display_data"
    },
    {
     "data": {
      "text/html": [
       "<pre style=\"white-space:pre;overflow-x:auto;line-height:normal;font-family:Menlo,'DejaVu Sans Mono',consolas,'Courier New',monospace\"><span style=\"color: #7fbfbf; text-decoration-color: #7fbfbf\">                    </span><span style=\"color: #800000; text-decoration-color: #800000\">WARNING </span> To use the Graphein submodule graphein.protein.visualisation, you  <a href=\"file:///vol/project/2023/70079/g237007905/bo_molecules/venv/lib/python3.10/site-packages/graphein/protein/visualisation.py\" target=\"_blank\"><span style=\"color: #7f7f7f; text-decoration-color: #7f7f7f\">visualisation.py</span></a><span style=\"color: #7f7f7f; text-decoration-color: #7f7f7f\">:</span><a href=\"file:///vol/project/2023/70079/g237007905/bo_molecules/venv/lib/python3.10/site-packages/graphein/protein/visualisation.py#36\" target=\"_blank\"><span style=\"color: #7f7f7f; text-decoration-color: #7f7f7f\">36</span></a>\n",
       "<span style=\"color: #7fbfbf; text-decoration-color: #7fbfbf\">                    </span>         need to install: pytorch3d                                         <span style=\"color: #7f7f7f; text-decoration-color: #7f7f7f\">                   </span>\n",
       "<span style=\"color: #7fbfbf; text-decoration-color: #7fbfbf\">                    </span>         pytorch3d cannot be installed via pip                              <span style=\"color: #7f7f7f; text-decoration-color: #7f7f7f\">                   </span>\n",
       "</pre>\n"
      ],
      "text/plain": [
       "\u001b[2;36m                   \u001b[0m\u001b[2;36m \u001b[0m\u001b[31mWARNING \u001b[0m To use the Graphein submodule graphein.protein.visualisation, you  \u001b]8;id=466725;file:///vol/project/2023/70079/g237007905/bo_molecules/venv/lib/python3.10/site-packages/graphein/protein/visualisation.py\u001b\\\u001b[2mvisualisation.py\u001b[0m\u001b]8;;\u001b\\\u001b[2m:\u001b[0m\u001b]8;id=578414;file:///vol/project/2023/70079/g237007905/bo_molecules/venv/lib/python3.10/site-packages/graphein/protein/visualisation.py#36\u001b\\\u001b[2m36\u001b[0m\u001b]8;;\u001b\\\n",
       "\u001b[2;36m                    \u001b[0m         need to install: pytorch3d                                         \u001b[2m                   \u001b[0m\n",
       "\u001b[2;36m                    \u001b[0m         pytorch3d cannot be installed via pip                              \u001b[2m                   \u001b[0m\n"
      ]
     },
     "metadata": {},
     "output_type": "display_data"
    },
    {
     "data": {
      "text/html": [
       "<pre style=\"white-space:pre;overflow-x:auto;line-height:normal;font-family:Menlo,'DejaVu Sans Mono',consolas,'Courier New',monospace\"><span style=\"color: #7fbfbf; text-decoration-color: #7fbfbf\">                    </span><span style=\"color: #800000; text-decoration-color: #800000\">WARNING </span> To use the Graphein submodule graphein.protein.meshes, you need to        <a href=\"file:///vol/project/2023/70079/g237007905/bo_molecules/venv/lib/python3.10/site-packages/graphein/protein/meshes.py\" target=\"_blank\"><span style=\"color: #7f7f7f; text-decoration-color: #7f7f7f\">meshes.py</span></a><span style=\"color: #7f7f7f; text-decoration-color: #7f7f7f\">:</span><a href=\"file:///vol/project/2023/70079/g237007905/bo_molecules/venv/lib/python3.10/site-packages/graphein/protein/meshes.py#30\" target=\"_blank\"><span style=\"color: #7f7f7f; text-decoration-color: #7f7f7f\">30</span></a>\n",
       "<span style=\"color: #7fbfbf; text-decoration-color: #7fbfbf\">                    </span>         install: pytorch3d                                                        <span style=\"color: #7f7f7f; text-decoration-color: #7f7f7f\">            </span>\n",
       "<span style=\"color: #7fbfbf; text-decoration-color: #7fbfbf\">                    </span>         To do so, use the following command: pip install pytorch3d                <span style=\"color: #7f7f7f; text-decoration-color: #7f7f7f\">            </span>\n",
       "</pre>\n"
      ],
      "text/plain": [
       "\u001b[2;36m                   \u001b[0m\u001b[2;36m \u001b[0m\u001b[31mWARNING \u001b[0m To use the Graphein submodule graphein.protein.meshes, you need to        \u001b]8;id=334158;file:///vol/project/2023/70079/g237007905/bo_molecules/venv/lib/python3.10/site-packages/graphein/protein/meshes.py\u001b\\\u001b[2mmeshes.py\u001b[0m\u001b]8;;\u001b\\\u001b[2m:\u001b[0m\u001b]8;id=84177;file:///vol/project/2023/70079/g237007905/bo_molecules/venv/lib/python3.10/site-packages/graphein/protein/meshes.py#30\u001b\\\u001b[2m30\u001b[0m\u001b]8;;\u001b\\\n",
       "\u001b[2;36m                    \u001b[0m         install: pytorch3d                                                        \u001b[2m            \u001b[0m\n",
       "\u001b[2;36m                    \u001b[0m         To do so, use the following command: pip install pytorch3d                \u001b[2m            \u001b[0m\n"
      ]
     },
     "metadata": {},
     "output_type": "display_data"
    }
   ],
   "source": [
    "# Module Imports\n",
    "from modules.benchmarking.metrics_and_benchmarking import accumulate_top_n\n",
    "from modules.utils.read_sample_store import read_compressed_or_regular_json, buffer_to_dataframe"
   ]
  },
  {
   "cell_type": "markdown",
   "metadata": {},
   "source": [
    "### Configurations"
   ]
  },
  {
   "cell_type": "code",
   "execution_count": 7,
   "metadata": {},
   "outputs": [],
   "source": [
    "oracle_name = 'albuterol_similarity'\n",
    "\n",
    "# Configurations for the plots\n",
    "x_min = 0\n",
    "x_max = 10_000\n",
    "y_min = 0\n",
    "y_max = 1.1\n",
    "\n",
    "smoothing_sigma = 50  # Smoothing factor for the PMO plots\n",
    "\n",
    "title = f\"Best Observed Top 10 values for {oracle_name}\"\n",
    "\n",
    "\n",
    "# Configurations for our experiments\n",
    "exp_start_iteration = 10\n",
    "exp_buffer_path = f\"experiments/results/{oracle_name}/2024-04-26_18-03-09_albuterol_similarity_1500/buffer.json.gz\"\n",
    "\n",
    "\n",
    "# Configurations for the PMO results \n",
    "pmo_start_iteration = 10      \n",
    "n_pmo_iterations = 10_000\n",
    "pmo_results_dir = f'experiments/pmo_benchmarking_comparison_plots/lines_from_graph_paper/{oracle_name}/'\n",
    "pmo_results_map = {\n",
    "    'GP BO': 'gp_bo.json',\n",
    "    'Graph GA': 'graph_ga.json',\n",
    "    'MolPAL': 'mol_pal.json',\n",
    "    'REINVENT': 'reinvent.json'\n",
    "}"
   ]
  },
  {
   "cell_type": "markdown",
   "metadata": {},
   "source": [
    "### Utility Functions"
   ]
  },
  {
   "cell_type": "code",
   "execution_count": 5,
   "metadata": {},
   "outputs": [],
   "source": [
    "def prepare_experiment_results(buffer_file_path: str, start_iteration: int) -> List[float]:\n",
    "    \"\"\"\n",
    "    Load our results buffer and prepare data for plotting.\n",
    "\n",
    "    Args:\n",
    "        buffer_file_path: Path to the buffer file for the experiment.\n",
    "        start_iteration: Start iteration for the plot. If > 0, pad the data with NaNs.\n",
    "\n",
    "    Returns:\n",
    "        List[float]: Data for the top 10 plot.\n",
    "    \"\"\"\n",
    "    # Load the buffer file\n",
    "    buffer = read_compressed_or_regular_json(buffer_file_path)\n",
    "\n",
    "    # Convert the buffer to a DataFrame\n",
    "    buffer_df = buffer_to_dataframe(buffer)\n",
    "\n",
    "    # Calculate top 10 values\n",
    "    data = accumulate_top_n(buffer_df['oracle_score'], 10)\n",
    "\n",
    "    # Pad the data, if required\n",
    "    data = [np.nan] * start_iteration + data\n",
    "\n",
    "    return data\n",
    "\n",
    "\n",
    "def prepare_pmo_results(json_path: str, smoothing_sigma: int, pmo_start_iteration: int) -> List[float]:\n",
    "    \"\"\"\n",
    "    Load and prepare PMO data for plotting.\n",
    "\n",
    "    Args:\n",
    "        json_path: Path to the JSON file containing the PMO results.\n",
    "        smoothing_sigma: Smoothing factor for the PMO plot.\n",
    "        pmo_start_iteration: Start iteration for the PMO plot. PMO plots are\n",
    "                already padded with NaNs. This helps to mask out the NaN while\n",
    "                applying Gaussian smoothing. \n",
    "\n",
    "    Returns:\n",
    "        List[float]: Data for the top 10 plot.\n",
    "    \"\"\"\n",
    "    # Load values from the json file\n",
    "    print(file_path)\n",
    "    with open(file_path, 'r') as f:\n",
    "        data = json.load(f)\n",
    "\n",
    "    # Separate out the NaNs before smoothing\n",
    "    nan_data = data[:pmo_start_iteration]\n",
    "    non_nan_data = data[pmo_start_iteration:]\n",
    "\n",
    "    # Smoothing out PMO data points\n",
    "    smoothed_data = gaussian_filter1d(non_nan_data, sigma=smoothing_sigma)\n",
    "\n",
    "    # Merge back NaN values\n",
    "    data = nan_data + smoothed_data.tolist()\n",
    "\n",
    "    return data\n",
    "\n",
    "def get_sns_colors() -> List[str]:\n",
    "    \"\"\"\n",
    "    Get the colors from the seaborn color palette.\n",
    "\n",
    "    Returns:\n",
    "        List[str]: List of Hex codes in the seaborn color palette.\n",
    "    \"\"\"\n",
    "    return sns.color_palette().as_hex()"
   ]
  },
  {
   "cell_type": "markdown",
   "metadata": {},
   "source": [
    "### Generate Comparison Plots"
   ]
  },
  {
   "cell_type": "code",
   "execution_count": 6,
   "metadata": {},
   "outputs": [
    {
     "name": "stdout",
     "output_type": "stream",
     "text": [
      "experiments/pmo_benchmarking_comparison_plots/lines_from_graph_paper/zaleplon_mpo/gp_bo.json\n",
      "experiments/pmo_benchmarking_comparison_plots/lines_from_graph_paper/zaleplon_mpo/graph_ga.json\n",
      "experiments/pmo_benchmarking_comparison_plots/lines_from_graph_paper/zaleplon_mpo/mol_pal.json\n",
      "experiments/pmo_benchmarking_comparison_plots/lines_from_graph_paper/zaleplon_mpo/reinvent.json\n"
     ]
    },
    {
     "data": {
      "image/png": "[encoded data removed]",
      "text/plain": [
       "<Figure size 640x480 with 1 Axes>"
      ]
     },
     "metadata": {},
     "output_type": "display_data"
    }
   ],
   "source": [
    "# Define colours for the different plots\n",
    "sns_colours = get_sns_colors()\n",
    "\n",
    "# Plot our results\n",
    "exp_data = prepare_experiment_results(exp_buffer_path, exp_start_iteration)\n",
    "sns.lineplot(x=list(range(1, len(exp_data)+1)), y=exp_data, label='Ours', color=sns_colours[0])\n",
    "\n",
    "# Extrapolate our plots to match the number of iterations in PMO\n",
    "extra_data = [exp_data[-1]] * (n_pmo_iterations - len(exp_data))\n",
    "sns.lineplot(x=list(range(len(exp_data)+1, n_pmo_iterations+1)), y=extra_data, linestyle='--', color=sns_colours[0])\n",
    "\n",
    "# Plot the PMO curves \n",
    "for i, (label, json_file) in enumerate(pmo_results_map.items()):\n",
    "    file_path = pmo_results_dir + json_file\n",
    "    pmo_data = prepare_pmo_results(file_path, smoothing_sigma, pmo_start_iteration)\n",
    "    sns.lineplot(x=list(range(1, len(pmo_data)+1)), y=pmo_data, label=label, color=sns_colours[i+1])\n",
    "\n",
    "plt.xlabel(\"Iteration\")\n",
    "plt.ylabel(\"Top 10 observed values\")\n",
    "plt.xlim(x_min, x_max)\n",
    "plt.ylim(y_min, y_max)\n",
    "plt.title(title)\n",
    "plt.legend()\n",
    "\n",
    "plt.show()\n",
    "plt.close()\n"
   ]
  }
 ],
 "metadata": {
  "kernelspec": {
   "display_name": "bo_mol_venv",
   "language": "python",
   "name": "python3"
  },
  "language_info": {
   "codemirror_mode": {
    "name": "ipython",
    "version": 3
   },
   "file_extension": ".py",
   "mimetype": "text/x-python",
   "name": "python",
   "nbconvert_exporter": "python",
   "pygments_lexer": "ipython3",
   "version": "3.10.12"
  }
 },
 "nbformat": 4,
 "nbformat_minor": 2
}
