{
 "cells": [
  {
   "cell_type": "markdown",
   "metadata": {},
   "source": [
    "## Investigating Molecular Conversions"
   ]
  },
  {
   "cell_type": "markdown",
   "metadata": {},
   "source": [
    "Our codebase uses 3 different molecular representatins: SMILES strings, RDKit molecules, and NetworkX graphs. The aim of this file is to investigate the loss of information when converting from one molecular representation to another. Specificlly, we investigate the invertibility between SMILES to NetworkX graph and then back to SMILES. "
   ]
  },
  {
   "cell_type": "markdown",
   "metadata": {},
   "source": [
    "## Setup"
   ]
  },
  {
   "cell_type": "markdown",
   "metadata": {},
   "source": [
    "### Change Working Directory"
   ]
  },
  {
   "cell_type": "code",
   "execution_count": 1,
   "metadata": {},
   "outputs": [
    {
     "name": "stdout",
     "output_type": "stream",
     "text": [
      "New working directory: /Users/gordianimperial/Documents/Group Project/bo_molecules\n"
     ]
    }
   ],
   "source": [
    "# Change working directory to the parent of the parent of the script\n",
    "\n",
    "import os\n",
    "\n",
    "# Get the current working directory\n",
    "current_directory = os.getcwd()\n",
    "\n",
    "# Get the parent of the parent directory\n",
    "parent_parent_directory = os.path.abspath(os.path.join(current_directory, '..', '..'))\n",
    "\n",
    "# Change the working directory to the parent of the parent directory\n",
    "os.chdir(parent_parent_directory)\n",
    "\n",
    "# Verify the change by printing the new working directory\n",
    "print(\"New working directory:\", os.getcwd())"
   ]
  },
  {
   "cell_type": "markdown",
   "metadata": {},
   "source": [
    "### Imports"
   ]
  },
  {
   "cell_type": "code",
   "execution_count": 2,
   "metadata": {},
   "outputs": [],
   "source": [
    "# Third-party imports\n",
    "import pandas as pd\n",
    "from rdkit import Chem\n",
    "import networkx as nx\n",
    "from tdc import Oracle"
   ]
  },
  {
   "cell_type": "code",
   "execution_count": 3,
   "metadata": {},
   "outputs": [
    {
     "data": {
      "text/html": [
       "<pre style=\"white-space:pre;overflow-x:auto;line-height:normal;font-family:Menlo,'DejaVu Sans Mono',consolas,'Courier New',monospace\"><span style=\"color: #7fbfbf; text-decoration-color: #7fbfbf\">[04/26/24 16:47:46] </span><span style=\"color: #800000; text-decoration-color: #800000\">WARNING </span> To use the Graphein submodule                                         <span style=\"color: #7f7f7f; text-decoration-color: #7f7f7f\">embeddings.py:44</span>\n",
       "<span style=\"color: #7fbfbf; text-decoration-color: #7fbfbf\">                    </span>         graphein.protein.features.sequence.embeddings, you need to install:   <span style=\"color: #7f7f7f; text-decoration-color: #7f7f7f\">                </span>\n",
       "<span style=\"color: #7fbfbf; text-decoration-color: #7fbfbf\">                    </span>         biovec                                                                <span style=\"color: #7f7f7f; text-decoration-color: #7f7f7f\">                </span>\n",
       "<span style=\"color: #7fbfbf; text-decoration-color: #7fbfbf\">                    </span>         To do so, use the following command: pip install biovec               <span style=\"color: #7f7f7f; text-decoration-color: #7f7f7f\">                </span>\n",
       "<span style=\"color: #7fbfbf; text-decoration-color: #7fbfbf\">                    </span>         Alternatively, you can install graphein with the extras:              <span style=\"color: #7f7f7f; text-decoration-color: #7f7f7f\">                </span>\n",
       "<span style=\"color: #7fbfbf; text-decoration-color: #7fbfbf\">                    </span>                                                                               <span style=\"color: #7f7f7f; text-decoration-color: #7f7f7f\">                </span>\n",
       "<span style=\"color: #7fbfbf; text-decoration-color: #7fbfbf\">                    </span>         pip install graphein<span style=\"font-weight: bold\">[</span>extras<span style=\"font-weight: bold\">]</span>                                          <span style=\"color: #7f7f7f; text-decoration-color: #7f7f7f\">                </span>\n",
       "</pre>\n"
      ],
      "text/plain": [
       "\u001b[2;36m[04/26/24 16:47:46]\u001b[0m\u001b[2;36m \u001b[0m\u001b[31mWARNING \u001b[0m To use the Graphein submodule                                         \u001b[2membeddings.py\u001b[0m\u001b[2m:\u001b[0m\u001b[2m44\u001b[0m\n",
       "\u001b[2;36m                    \u001b[0m         graphein.protein.features.sequence.embeddings, you need to install:   \u001b[2m                \u001b[0m\n",
       "\u001b[2;36m                    \u001b[0m         biovec                                                                \u001b[2m                \u001b[0m\n",
       "\u001b[2;36m                    \u001b[0m         To do so, use the following command: pip install biovec               \u001b[2m                \u001b[0m\n",
       "\u001b[2;36m                    \u001b[0m         Alternatively, you can install graphein with the extras:              \u001b[2m                \u001b[0m\n",
       "\u001b[2;36m                    \u001b[0m                                                                               \u001b[2m                \u001b[0m\n",
       "\u001b[2;36m                    \u001b[0m         pip install graphein\u001b[1m[\u001b[0mextras\u001b[1m]\u001b[0m                                          \u001b[2m                \u001b[0m\n"
      ]
     },
     "metadata": {},
     "output_type": "display_data"
    },
    {
     "data": {
      "text/html": [
       "<pre style=\"white-space:pre;overflow-x:auto;line-height:normal;font-family:Menlo,'DejaVu Sans Mono',consolas,'Courier New',monospace\"><span style=\"color: #7fbfbf; text-decoration-color: #7fbfbf\">[04/26/24 16:47:47] </span><span style=\"color: #800000; text-decoration-color: #800000\">WARNING </span> To use the Graphein submodule graphein.protein.visualisation, you  <span style=\"color: #7f7f7f; text-decoration-color: #7f7f7f\">visualisation.py:35</span>\n",
       "<span style=\"color: #7fbfbf; text-decoration-color: #7fbfbf\">                    </span>         need to install: pytorch3d                                         <span style=\"color: #7f7f7f; text-decoration-color: #7f7f7f\">                   </span>\n",
       "<span style=\"color: #7fbfbf; text-decoration-color: #7fbfbf\">                    </span>         pytorch3d cannot be installed via pip                              <span style=\"color: #7f7f7f; text-decoration-color: #7f7f7f\">                   </span>\n",
       "</pre>\n"
      ],
      "text/plain": [
       "\u001b[2;36m[04/26/24 16:47:47]\u001b[0m\u001b[2;36m \u001b[0m\u001b[31mWARNING \u001b[0m To use the Graphein submodule graphein.protein.visualisation, you  \u001b[2mvisualisation.py\u001b[0m\u001b[2m:\u001b[0m\u001b[2m35\u001b[0m\n",
       "\u001b[2;36m                    \u001b[0m         need to install: pytorch3d                                         \u001b[2m                   \u001b[0m\n",
       "\u001b[2;36m                    \u001b[0m         pytorch3d cannot be installed via pip                              \u001b[2m                   \u001b[0m\n"
      ]
     },
     "metadata": {},
     "output_type": "display_data"
    },
    {
     "data": {
      "text/html": [
       "<pre style=\"white-space:pre;overflow-x:auto;line-height:normal;font-family:Menlo,'DejaVu Sans Mono',consolas,'Courier New',monospace\"><span style=\"color: #7fbfbf; text-decoration-color: #7fbfbf\">                    </span><span style=\"color: #800000; text-decoration-color: #800000\">WARNING </span> To use the Graphein submodule graphein.protein.meshes, you need to        <span style=\"color: #7f7f7f; text-decoration-color: #7f7f7f\">meshes.py:29</span>\n",
       "<span style=\"color: #7fbfbf; text-decoration-color: #7fbfbf\">                    </span>         install: pytorch3d                                                        <span style=\"color: #7f7f7f; text-decoration-color: #7f7f7f\">            </span>\n",
       "<span style=\"color: #7fbfbf; text-decoration-color: #7fbfbf\">                    </span>         To do so, use the following command: pip install pytorch3d                <span style=\"color: #7f7f7f; text-decoration-color: #7f7f7f\">            </span>\n",
       "</pre>\n"
      ],
      "text/plain": [
       "\u001b[2;36m                   \u001b[0m\u001b[2;36m \u001b[0m\u001b[31mWARNING \u001b[0m To use the Graphein submodule graphein.protein.meshes, you need to        \u001b[2mmeshes.py\u001b[0m\u001b[2m:\u001b[0m\u001b[2m29\u001b[0m\n",
       "\u001b[2;36m                    \u001b[0m         install: pytorch3d                                                        \u001b[2m            \u001b[0m\n",
       "\u001b[2;36m                    \u001b[0m         To do so, use the following command: pip install pytorch3d                \u001b[2m            \u001b[0m\n"
      ]
     },
     "metadata": {},
     "output_type": "display_data"
    }
   ],
   "source": [
    "# Module Imports\n",
    "from modules.utils.read_sample_store import sample_smiles_from_smiles_csv\n",
    "from modules.utils.molecular_data_conversion import (\n",
    "    graph_to_smiles,\n",
    "    smiles_to_graph,\n",
    ")"
   ]
  },
  {
   "cell_type": "markdown",
   "metadata": {},
   "source": [
    "### Specifications"
   ]
  },
  {
   "cell_type": "code",
   "execution_count": 4,
   "metadata": {},
   "outputs": [],
   "source": [
    "n_samples = 2000\n",
    "\n",
    "path_to_molecules = \"data/zinc.csv\"\n",
    "\n",
    "# List of supported oracles\n",
    "oracle_names = [\n",
    "    \"albuterol_similarity\",\n",
    "    \"amlodipine_mpo\",\n",
    "    \"celecoxib_rediscovery\",\n",
    "    \"deco_hop\",\n",
    "    \"drd2\",\n",
    "    \"fexofenadine_mpo\",\n",
    "    \"gsk3b\",\n",
    "    \"isomers_c7h8n2o2\",\n",
    "    \"isomers_c9h10n2o2pf2cl\",\n",
    "    \"median1\",\n",
    "    \"median2\",\n",
    "    \"mestranol_similarity\",\n",
    "    \"osimertinib_mpo\",\n",
    "    \"perindopril_mpo\",\n",
    "    \"QED\",\n",
    "    \"ranolazine_mpo\",\n",
    "    \"scaffold_hop\",\n",
    "    \"sitagliptin_mpo\",\n",
    "    \"thiothixene_rediscovery\",\n",
    "    \"troglitazone_rediscovery\",\n",
    "    \"valsartan_smarts\",\n",
    "    \"zaleplon_mpo\"\n",
    "]"
   ]
  },
  {
   "cell_type": "markdown",
   "metadata": {},
   "source": [
    "### Loading molecular samples"
   ]
  },
  {
   "cell_type": "markdown",
   "metadata": {},
   "source": [
    "We will randomly sample 2000 molecules from the ZINC database to test molecular conversion.\n",
    "\n",
    "However, we pass a sample_size of n_samples//2 to the sampling function. This is so because the sampling function doubles the number of samples to safeguard against failed coversions in the downstream tasks."
   ]
  },
  {
   "cell_type": "code",
   "execution_count": 5,
   "metadata": {},
   "outputs": [
    {
     "name": "stdout",
     "output_type": "stream",
     "text": [
      "Sampled 2000 SMILES strings from data/zinc.csv\n"
     ]
    }
   ],
   "source": [
    "original_smiles = sample_smiles_from_smiles_csv(path_to_molecules, n_samples//2)\n",
    "\n",
    "print(f\"Sampled {len(original_smiles)} SMILES strings from {path_to_molecules}\")"
   ]
  },
  {
   "cell_type": "markdown",
   "metadata": {},
   "source": [
    "### Utility Functions"
   ]
  },
  {
   "cell_type": "markdown",
   "metadata": {},
   "source": [
    "To check invertibility of different molecular conversions"
   ]
  },
  {
   "cell_type": "code",
   "execution_count": 6,
   "metadata": {},
   "outputs": [],
   "source": [
    "def calc_oracle_score_difference(oracle_names: list, original_smiles: list, reconstructed_smiles: list) -> pd.DataFrame:\n",
    "    \"\"\"\n",
    "    Calculate the difference in oracle scores between the original and reconstructed SMILES strings\n",
    "\n",
    "    Args:\n",
    "        oracle_names (list): The list of oracle names to use\n",
    "        original_smiles (list): The list of original SMILES strings\n",
    "        reconstructed_smiles (list): The list of reconstructed SMILES strings\n",
    "\n",
    "    Returns:\n",
    "        pd.DataFrame: The DataFrame containing the oracle score differences\n",
    "    \"\"\"\n",
    "    results = []\n",
    "\n",
    "    # Iteratively calcualte difference for all oracles\n",
    "    for oracle_name in oracle_names:\n",
    "        oracle = Oracle(name=oracle_name)\n",
    "        # Iterate over all original and reconstructed SMILES pairs\n",
    "        for orig_smiles, recon_smiles in zip(original_smiles, reconstructed_smiles):\n",
    "            orig_score = oracle(orig_smiles)\n",
    "            recon_score = oracle(recon_smiles)\n",
    "            diff = orig_score - recon_score\n",
    "            \n",
    "            row = [oracle_name, orig_smiles, recon_smiles, orig_score, recon_score, diff]\n",
    "            results.append(row)\n",
    "\n",
    "    results = pd.DataFrame(results, columns=['oracle', 'original_smiles', 'reconstructed_smiles', 'original_score', 'reconstructed_score', 'score_difference'])\n",
    "\n",
    "    return results"
   ]
  },
  {
   "cell_type": "markdown",
   "metadata": {},
   "source": [
    "## Experiments"
   ]
  },
  {
   "cell_type": "markdown",
   "metadata": {},
   "source": [
    "### Test SMILES -> NetworkX Graph -> SMILES Conversion"
   ]
  },
  {
   "cell_type": "code",
   "execution_count": 7,
   "metadata": {},
   "outputs": [
    {
     "name": "stdout",
     "output_type": "stream",
     "text": [
      "Failed to exactly reconstruct 34 / 2000 SMILES.\n",
      "----------------------\n",
      "Original: COC(=O)c1cc(C[NH+]2CCC(C(=O)N3C[C@H](C)O[C@H](C)C3)CC2)c[nH]1\n",
      "Reconstructed: COC(=O)c1cc(C[NH+]2CCC(C(=O)N3C[C@@H](C)O[C@@H](C)C3)CC2)c[nH]1\n",
      "----------------------\n",
      "Original: Cc1ccc(C(=O)N[C@@H]2N=C3[C@H](CC[C@@H]3C(=O)NCCc3c[nH]c4ccccc34)S2)cc1\n",
      "Reconstructed: Cc1ccc(C(=O)N[C@@H]2N=C3[C@@H](C(=O)NCCc4c[nH]c5ccccc45)CC[C@@H]3S2)cc1\n",
      "----------------------\n",
      "Original: CCC[NH+](CCC)[C@H]1[C@@H](C(=O)[O-])[C@H]2CC[C@@H]1C2\n",
      "Reconstructed: CCC[NH+](CCC)[C@@H]1[C@@H]2CC[C@@H](C2)[C@@H]1C(=O)[O-]\n",
      "----------------------\n",
      "Original: C[C@@H]1SCCC[C@H]1[NH2+]CC[C@@H](C)c1ccccc1\n",
      "Reconstructed: C[C@H](CC[NH2+][C@@H]1CCCS[C@H]1C)c1ccccc1\n",
      "----------------------\n",
      "Original: C#CCOc1ccc(F)cc1NC(=O)C(=O)N[C@@H]1C[C@H]2C[C@@H]1[C@H]1CCC[C@@H]12\n",
      "Reconstructed: C#CCOc1ccc(F)cc1NC(=O)C(=O)N[C@@H]1C[C@H]2C[C@@H]1[C@H]1CCC[C@H]21\n",
      "----------------------\n",
      "Original: C[C@H]1CC[C@@H](C)CN1C(=O)c1ccc(S(N)(=O)=O)o1\n",
      "Reconstructed: C[C@@H]1CC[C@H](C)N(C(=O)c2ccc(S(N)(=O)=O)o2)C1\n",
      "----------------------\n",
      "Original: C[C@H]1CC(N2CCO[C@]3(CCc4ccccc43)C2)C[C@@H](C)O1\n",
      "Reconstructed: C[C@@H]1CC(N2CCO[C@]3(CCc4ccccc43)C2)C[C@H](C)O1\n",
      "----------------------\n",
      "Original: CCCN(CC1CC1)C(=O)NCc1ccc(C(=O)N2C[C@H](C)O[C@H](C)C2)cc1\n",
      "Reconstructed: CCCN(CC1CC1)C(=O)NCc1ccc(C(=O)N2C[C@@H](C)O[C@@H](C)C2)cc1\n",
      "----------------------\n",
      "Original: C[C@@H]([NH2+]Cc1cn2cc(Cl)ccc2n1)[C@@H](C)n1cccn1\n",
      "Reconstructed: C[C@H]([C@@H](C)[NH2+]Cc1cn2cc(Cl)ccc2n1)n1cccn1\n",
      "----------------------\n",
      "Original: O=C(CCC(=O)N1C[C@@H]2C[C@H](C1)Cn1c2cccc1=O)NCc1ccccc1\n",
      "Reconstructed: O=C(CCC(=O)N1C[C@H]2C[C@@H](C1)c1cccc(=O)n1C2)NCc1ccccc1\n",
      "----------------------\n",
      "Original: Cc1cc(NC(=O)[C@H](C)Sc2nnc(N3C[C@@H](C)C[C@@H](C)C3)n2Cc2ccco2)on1\n",
      "Reconstructed: Cc1cc(NC(=O)[C@H](C)Sc2nnc(N3C[C@H](C)C[C@H](C)C3)n2Cc2ccco2)on1\n",
      "----------------------\n",
      "Original: Cc1[nH+]cn(CC(=O)N2C[C@@H](C[NH+]3CCCC3)C[C@@H](CO)C2)c1C\n",
      "Reconstructed: Cc1[nH+]cn(CC(=O)N2C[C@H](CO)C[C@H](C[NH+]3CCCC3)C2)c1C\n",
      "----------------------\n",
      "Original: CCC[NH2+][C@@H]([C@@H](C)CC)[C@@H]1CCCc2ccccc21\n",
      "Reconstructed: CCC[NH2+][C@H]([C@@H]1CCCc2ccccc21)[C@@H](C)CC\n",
      "----------------------\n",
      "Original: CCOC(=O)[C@@H]1[C@@H]2C(=O)N(c3ccccc3Cl)C[C@]23C=C[C@H]1O3\n",
      "Reconstructed: CCOC(=O)[C@H]1[C@H]2C=C[C@]3(CN(c4ccccc4Cl)C(=O)[C@@H]13)O2\n",
      "----------------------\n",
      "Original: C[C@@H](O)C[C@@H](C)CNC(=O)[C@@H]1CCCN1c1ncnc2sccc12\n",
      "Reconstructed: C[C@@H](CNC(=O)[C@@H]1CCCN1c1ncnc2sccc12)C[C@@H](C)O\n",
      "----------------------\n",
      "Original: COc1ccc(COCCCC(=O)N2C[C@@H](C)C[C@@H](C)C2)cc1\n",
      "Reconstructed: COc1ccc(COCCCC(=O)N2C[C@H](C)C[C@H](C)C2)cc1\n",
      "----------------------\n",
      "Original: C=CCn1c(C)nnc1S[C@@H](C)C(=O)N1C[C@@H](C)C[C@@H](C)C1\n",
      "Reconstructed: C=CCn1c(C)nnc1S[C@@H](C)C(=O)N1C[C@H](C)C[C@H](C)C1\n",
      "----------------------\n",
      "Original: COc1c2c(c(OC)c3ccccc13)[C@H]1C=C(C)[C@@H]2CC1\n",
      "Reconstructed: COc1c2c(c(OC)c3ccccc13)[C@H]1CC[C@@H]2C=C1C\n",
      "----------------------\n",
      "Original: O=C(c1cn(CCN2CC[NH2+]CC2)nn1)N1C[C@H]2[C@H]3CC[C@H](O3)[C@H]2C1\n",
      "Reconstructed: O=C(c1cn(CCN2CC[NH2+]CC2)nn1)N1C[C@@H]2[C@H](C1)[C@@H]1CC[C@H]2O1\n",
      "----------------------\n",
      "Original: CCC1(CC)[C@@H](OC)[C@@H](C)[C@H]1NC(=O)NCCc1cccnc1\n",
      "Reconstructed: CCC1(CC)[C@H](NC(=O)NCCc2cccnc2)[C@H](C)[C@@H]1OC\n",
      "----------------------\n",
      "Original: C[C@H]1CN(c2ccccc2NC(=O)C(=O)NC[C@@H](C)O)C[C@@H](C)O1\n",
      "Reconstructed: C[C@@H]1CN(c2ccccc2NC(=O)C(=O)NC[C@@H](C)O)C[C@H](C)O1\n",
      "----------------------\n",
      "Original: O=C([C@H]1CCC[NH+]1Cc1ccccc1)N1C[C@@H]2[C@H](C1)C[NH+]1CCCC[C@H]21\n",
      "Reconstructed: O=C([C@H]1CCC[NH+]1Cc1ccccc1)N1C[C@@H]2C[NH+]3CCCC[C@@H]3[C@@H]2C1\n",
      "----------------------\n",
      "Original: C[C@]12C=CC(=O)C=C1CC[C@@H]1[C@@H]2CC[C@@]2(C)[C@H]1CC[C@H]2O[C@@H]1O[C@H](C(=O)[O-])[C@@H](O)[C@H](O)[C@H]1O\n",
      "Reconstructed: C[C@]12CC[C@H]3[C@@H](CCC4=CC(=O)C=C[C@@]43C)[C@@H]1CC[C@H]2O[C@@H]1O[C@H](C(=O)[O-])[C@@H](O)[C@H](O)[C@H]1O\n",
      "----------------------\n",
      "Original: COc1ccc(Cl)cc1NC(=O)Nc1nnc(N2[C@@H](C)CCC[C@H]2C)s1\n",
      "Reconstructed: COc1ccc(Cl)cc1NC(=O)Nc1nnc(N2[C@H](C)CCC[C@@H]2C)s1\n",
      "----------------------\n",
      "Original: C[C@@H]1OCC[C@@H]1C(=O)NC[C@@H](C)CO\n",
      "Reconstructed: C[C@@H](CO)CNC(=O)[C@H]1CCO[C@H]1C\n",
      "----------------------\n",
      "Original: Cc1cc(OC(=O)[C@H](Cc2ccccc2)N2C(=O)[C@@H]3[C@H](C2=O)[C@@H]2C=C[C@H]3[C@@H]3C[C@H]23)cc(C)c1Cl\n",
      "Reconstructed: Cc1cc(OC(=O)[C@H](Cc2ccccc2)N2C(=O)[C@@H]3[C@@H]4C=C[C@@H]([C@@H]5C[C@H]45)[C@@H]3C2=O)cc(C)c1Cl\n",
      "----------------------\n",
      "Original: O=C1[C@H]2CN(Cc3cnn(-c4ccccc4Cl)c3)CCN2C(=O)[C@@H]2C[C@@H](O)CN12\n",
      "Reconstructed: O=C1[C@@H]2C[C@@H](O)CN2C(=O)[C@H]2CN(Cc3cnn(-c4ccccc4Cl)c3)CCN12\n",
      "----------------------\n",
      "Original: Cc1ccccc1N1C(=O)[C@H]2ON(c3ccccc3)[C@H](c3cccnc3)[C@@H]2C1=O\n",
      "Reconstructed: Cc1ccccc1N1C(=O)[C@@H]2[C@H](ON(c3ccccc3)[C@@H]2c2cccnc2)C1=O\n",
      "----------------------\n",
      "Original: C[C@H]1CN(Cc2ccccc2NCc2nnnn2C2CC2)C[C@@H](C)O1\n",
      "Reconstructed: C[C@@H]1CN(Cc2ccccc2NCc2nnnn2C2CC2)C[C@H](C)O1\n",
      "----------------------\n",
      "Original: CC[NH2+][C@H]([C@@H]1CN2CCC[C@@H]2CO1)[C@@H]1CCCC[C@H]1CC\n",
      "Reconstructed: CC[NH2+][C@@H]([C@@H]1CCCC[C@H]1CC)[C@@H]1CN2CCC[C@@H]2CO1\n",
      "----------------------\n",
      "Original: C[C@@H]([C@@H](C)C(=O)[O-])n1ncc2ccc([N+](=O)[O-])cc21\n",
      "Reconstructed: C[C@@H](C(=O)[O-])[C@H](C)n1ncc2ccc([N+](=O)[O-])cc21\n",
      "----------------------\n",
      "Original: C=C1C[C@]2(C)C(=CC1=O)CC[C@@H]1[C@@H]3CC[C@](C)(O)[C@]3(C)CC[C@H]12\n",
      "Reconstructed: C=C1C[C@]2(C)C(=CC1=O)CC[C@H]1[C@H]2CC[C@]2(C)[C@H]1CC[C@]2(C)O\n",
      "----------------------\n",
      "Original: NC(=O)c1csc(N2C[C@@H](C[NH+]3CCCCC3)[C@@H](CO)C2)n1\n",
      "Reconstructed: NC(=O)c1csc(N2C[C@H](CO)[C@H](C[NH+]3CCCCC3)C2)n1\n",
      "----------------------\n",
      "Original: C[C@@H](c1ccccc1F)N(C)[C@@]1(C[NH3+])CS[C@H](C)C1\n",
      "Reconstructed: C[C@@H]1C[C@@](C[NH3+])(N(C)[C@@H](C)c2ccccc2F)CS1\n",
      "----------------------\n"
     ]
    }
   ],
   "source": [
    "# Convert SMILES to NetworkX graphs\n",
    "graphs = [smiles_to_graph(smiles) for smiles in original_smiles]\n",
    "\n",
    "# Convert NetworkX graphs to SMILES\n",
    "reconstructed_smiles = [graph_to_smiles(graph) for graph in graphs]\n",
    "\n",
    "# Indices for which the original and reconstructed SMILES strings differ\n",
    "error_idx = [i for i, (s1, s2) in enumerate(zip(original_smiles, reconstructed_smiles)) if s1 != s2]\n",
    "\n",
    "# Report errors\n",
    "print(f\"Failed to exactly reconstruct {len(error_idx)} / {len(original_smiles)} SMILES.\")\n",
    "print(\"----------------------\")\n",
    "\n",
    "for i in error_idx:\n",
    "    print(f\"Original: {original_smiles[i]}\")\n",
    "    print(f\"Reconstructed: {reconstructed_smiles[i]}\")\n",
    "    print(\"----------------------\")"
   ]
  },
  {
   "cell_type": "markdown",
   "metadata": {},
   "source": [
    "#### Understanding Failure Modes\n",
    "\n",
    "##### Stereochemistry"
   ]
  },
  {
   "cell_type": "markdown",
   "metadata": {},
   "source": [
    "Since we are working with 2D molecular graphs, our conversions loose information regarding exact 3D orientation and thus, sometimes incorrectly converts one isomer into another. \n",
    "\n",
    "In the SMILES representation, '@' and '@@' represents the clockwise (*D*-isomer) and counter-clockwise (*L*-isomer) orientation respectively.\n",
    "\n",
    "We observed that all of the above error arise because of this issue. Specifically, '@' gets converted to '@@' and vice versa. This also leads to changes in the indexing of atoms in a ring structure and thus, changes the ordering of atoms in the reconstructed SMILES."
   ]
  },
  {
   "cell_type": "markdown",
   "metadata": {},
   "source": [
    "#### Analysing Difference in Oracle Scores"
   ]
  },
  {
   "cell_type": "markdown",
   "metadata": {},
   "source": [
    "Next, we analyse the impact of our inexact invertibility on the oracle scores. "
   ]
  },
  {
   "cell_type": "code",
   "execution_count": 8,
   "metadata": {},
   "outputs": [
    {
     "name": "stderr",
     "output_type": "stream",
     "text": [
      "Found local copy...\n",
      "Downloading Oracle...\n",
      "100%|██████████| 27.8M/27.8M [00:10<00:00, 2.66MiB/s]\n",
      "Done!\n"
     ]
    }
   ],
   "source": [
    "# Calculate difference between Oracle scores for all sampled SMILES\n",
    "oracle_diff_df = calc_oracle_score_difference(oracle_names, original_smiles, reconstructed_smiles)"
   ]
  },
  {
   "cell_type": "markdown",
   "metadata": {},
   "source": [
    "Analyse SMILES for which oracle scores before and after reconstruction are not identical"
   ]
  },
  {
   "cell_type": "code",
   "execution_count": 9,
   "metadata": {},
   "outputs": [
    {
     "name": "stdout",
     "output_type": "stream",
     "text": [
      "Oracle scores didn't match exactly for 11 / 2000 SMILES.\n",
      "----------------------\n",
      "Difference observed for below Oracles:\n",
      " ['C[C@H]1C[C@@H](C)CCN(C(=O)N[C@@H](c2ccc(Cl)cc2)c2ncon2)C1'\n",
      " 'C[C@@]12CC/C(=N\\\\OCC(=O)[O-])C=C1CC[C@@H]1[C@@H]2CC[C@]2(C)[C@@H]1CC[C@]2(C)O'\n",
      " 'C[C@@H](CNC(=O)N1CCCCC[C@@H]1c1ccco1)N1CCOC[C@H]1C'\n",
      " 'CC1(C)[C@@H](C(=O)Oc2cccc3cccnc23)[C@@H]1C=C(Br)Br'\n",
      " 'COc1ccc(C(=O)N2C[C@H](c3cccc(F)c3)[C@@H](C[NH+]3CCCC3)C2)cc1OC'\n",
      " 'C[C@H]1CN(Cc2cc(F)cc(C#CC[NH3+])c2)[C@H](C)CO1'\n",
      " 'C[C@H](NC(=O)N[C@H](C)Cn1cc[nH+]c1)C(=O)N1CCCCC1'\n",
      " 'C[C@H]1CN(C(=O)[C@@H](C)n2cccn2)c2ccccc2S1'\n",
      " 'C[C@H]1CC(=O)[C@H]2[C@@]3(O)C(=O)c4cccc(O)c4[C@@H]4O[C@@]43[C@@H](O)C[C@]2(O)C1'\n",
      " 'CC(C)(C)c1cc(C[NH+]2CCC3(CC2)[C@@H]([O-])C[C@H]3O)n[nH]1'\n",
      " 'O=C(Nc1ccc(OC(F)F)c(Cl)c1)[C@H]1[C@@H]2C=C[C@@H](O2)[C@@H]1C(=O)[O-]']\n"
     ]
    }
   ],
   "source": [
    "# Filter inexact scores\n",
    "inexact_scores_df = oracle_diff_df[oracle_diff_df['score_difference']!=0.0]\n",
    "\n",
    "# Report SMILES with inexact match\n",
    "inexact_score_smiles = inexact_scores_df['original_smiles'].unique()\n",
    "inexact_score_oracles = inexact_scores_df['oracle'].unique()\n",
    "\n",
    "print(f\"Oracle scores didn't match exactly for {len(inexact_score_smiles)} / {len(original_smiles)} SMILES.\")\n",
    "print(\"----------------------\")\n",
    "print(f\"Difference observed for below Oracles:\\n {inexact_score_smiles}\")"
   ]
  },
  {
   "cell_type": "markdown",
   "metadata": {},
   "source": [
    "Next, we analyse the observed differences within some error tolerance. Please note that the oracle scores lie between 0 and 1. Therefore, a tolerance of 0.001 seems sufficient. "
   ]
  },
  {
   "cell_type": "code",
   "execution_count": 10,
   "metadata": {},
   "outputs": [
    {
     "name": "stdout",
     "output_type": "stream",
     "text": [
      "Oracle scores didn't match exactly for 0 / 2000 SMILES.\n",
      "----------------------\n",
      "Difference observed for below Oracles:\n",
      " []\n"
     ]
    }
   ],
   "source": [
    "# Define an error tolerance\n",
    "error_tolerance = 0.001\n",
    "\n",
    "bounded_error_df = oracle_diff_df[oracle_diff_df['score_difference'].abs() > error_tolerance]\n",
    "\n",
    "# Report SMILES with error greater than our tolerance\n",
    "bounded_error_smiles = bounded_error_df['original_smiles'].unique()\n",
    "bounded_error_oracles = bounded_error_df['oracle'].unique()\n",
    "\n",
    "print(f\"Oracle scores didn't match exactly for {len(bounded_error_smiles)} / {len(original_smiles)} SMILES.\")\n",
    "print(\"----------------------\")\n",
    "print(f\"Difference observed for below Oracles:\\n {bounded_error_oracles}\")"
   ]
  }
 ],
 "metadata": {
  "kernelspec": {
   "display_name": "venv",
   "language": "python",
   "name": "python3"
  },
  "language_info": {
   "codemirror_mode": {
    "name": "ipython",
    "version": 3
   },
   "file_extension": ".py",
   "mimetype": "text/x-python",
   "name": "python",
   "nbconvert_exporter": "python",
   "pygments_lexer": "ipython3",
   "version": "3.10.8"
  }
 },
 "nbformat": 4,
 "nbformat_minor": 2
}
