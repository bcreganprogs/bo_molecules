{
 "cells": [
  {
   "cell_type": "markdown",
   "metadata": {},
   "source": [
    "# Investigate Graph Kernel"
   ]
  },
  {
   "cell_type": "markdown",
   "metadata": {},
   "source": [
    "The aim of this file is to investigate the Graph Kernel.\n",
    "\n",
    "We created a csv file with SMILES strings that are highly similar and are only distinguished in one of three ways. We aim to investigate whether this structural similarity will be seen in the graph kernel output."
   ]
  },
  {
   "cell_type": "markdown",
   "metadata": {},
   "source": [
    "## Setup"
   ]
  },
  {
   "cell_type": "markdown",
   "metadata": {},
   "source": [
    "### Change Working Directory"
   ]
  },
  {
   "cell_type": "code",
   "execution_count": 1,
   "metadata": {},
   "outputs": [
    {
     "name": "stdout",
     "output_type": "stream",
     "text": [
      "New working directory: /Users/gordianimperial/Documents/Group Project/bo_molecules\n"
     ]
    }
   ],
   "source": [
    "# Change working directory to the parent of the parent of the script\n",
    "\n",
    "import os\n",
    "\n",
    "# Get the current working directory\n",
    "current_directory = os.getcwd()\n",
    "\n",
    "# Get the parent of the parent directory\n",
    "parent_parent_directory = os.path.abspath(os.path.join(current_directory, '..', '..'))\n",
    "\n",
    "# Change the working directory to the parent of the parent directory\n",
    "os.chdir(parent_parent_directory)\n",
    "\n",
    "# Verify the change by printing the new working directory\n",
    "print(\"New working directory:\", os.getcwd())\n"
   ]
  },
  {
   "cell_type": "markdown",
   "metadata": {},
   "source": [
    "### Imports"
   ]
  },
  {
   "cell_type": "code",
   "execution_count": 2,
   "metadata": {},
   "outputs": [],
   "source": [
    "# Standard library\n",
    "import random\n",
    "\n",
    "# Third-party\n",
    "from tdc import Oracle\n",
    "from gauche.kernels.graph_kernels import WeisfeilerLehmanKernel\n",
    "import matplotlib.pyplot as plt\n",
    "import pandas as pd\n",
    "import numpy as np\n",
    "from sklearn.metrics import mean_squared_error, r2_score\n",
    "from sklearn.decomposition import PCA\n",
    "from sklearn.manifold import TSNE\n",
    "import plotly.express as px\n",
    "from gauche import NonTensorialInputs"
   ]
  },
  {
   "cell_type": "code",
   "execution_count": 3,
   "metadata": {},
   "outputs": [
    {
     "data": {
      "text/html": [
       "<pre style=\"white-space:pre;overflow-x:auto;line-height:normal;font-family:Menlo,'DejaVu Sans Mono',consolas,'Courier New',monospace\"><span style=\"color: #7fbfbf; text-decoration-color: #7fbfbf\">[04/22/24 13:36:27] </span><span style=\"color: #800000; text-decoration-color: #800000\">WARNING </span> To use the Graphein submodule                                         <span style=\"color: #7f7f7f; text-decoration-color: #7f7f7f\">embeddings.py:45</span>\n",
       "<span style=\"color: #7fbfbf; text-decoration-color: #7fbfbf\">                    </span>         graphein.protein.features.sequence.embeddings, you need to install:   <span style=\"color: #7f7f7f; text-decoration-color: #7f7f7f\">                </span>\n",
       "<span style=\"color: #7fbfbf; text-decoration-color: #7fbfbf\">                    </span>         biovec                                                                <span style=\"color: #7f7f7f; text-decoration-color: #7f7f7f\">                </span>\n",
       "<span style=\"color: #7fbfbf; text-decoration-color: #7fbfbf\">                    </span>         To do so, use the following command: pip install biovec               <span style=\"color: #7f7f7f; text-decoration-color: #7f7f7f\">                </span>\n",
       "<span style=\"color: #7fbfbf; text-decoration-color: #7fbfbf\">                    </span>         Alternatively, you can install graphein with the extras:              <span style=\"color: #7f7f7f; text-decoration-color: #7f7f7f\">                </span>\n",
       "<span style=\"color: #7fbfbf; text-decoration-color: #7fbfbf\">                    </span>                                                                               <span style=\"color: #7f7f7f; text-decoration-color: #7f7f7f\">                </span>\n",
       "<span style=\"color: #7fbfbf; text-decoration-color: #7fbfbf\">                    </span>         pip install graphein<span style=\"font-weight: bold\">[</span>extras<span style=\"font-weight: bold\">]</span>                                          <span style=\"color: #7f7f7f; text-decoration-color: #7f7f7f\">                </span>\n",
       "</pre>\n"
      ],
      "text/plain": [
       "\u001b[2;36m[04/22/24 13:36:27]\u001b[0m\u001b[2;36m \u001b[0m\u001b[31mWARNING \u001b[0m To use the Graphein submodule                                         \u001b[2membeddings.py\u001b[0m\u001b[2m:\u001b[0m\u001b[2m45\u001b[0m\n",
       "\u001b[2;36m                    \u001b[0m         graphein.protein.features.sequence.embeddings, you need to install:   \u001b[2m                \u001b[0m\n",
       "\u001b[2;36m                    \u001b[0m         biovec                                                                \u001b[2m                \u001b[0m\n",
       "\u001b[2;36m                    \u001b[0m         To do so, use the following command: pip install biovec               \u001b[2m                \u001b[0m\n",
       "\u001b[2;36m                    \u001b[0m         Alternatively, you can install graphein with the extras:              \u001b[2m                \u001b[0m\n",
       "\u001b[2;36m                    \u001b[0m                                                                               \u001b[2m                \u001b[0m\n",
       "\u001b[2;36m                    \u001b[0m         pip install graphein\u001b[1m[\u001b[0mextras\u001b[1m]\u001b[0m                                          \u001b[2m                \u001b[0m\n"
      ]
     },
     "metadata": {},
     "output_type": "display_data"
    },
    {
     "data": {
      "text/html": [
       "<pre style=\"white-space:pre;overflow-x:auto;line-height:normal;font-family:Menlo,'DejaVu Sans Mono',consolas,'Courier New',monospace\"><span style=\"color: #7fbfbf; text-decoration-color: #7fbfbf\">                    </span><span style=\"color: #800000; text-decoration-color: #800000\">WARNING </span> To use the Graphein submodule graphein.protein.visualisation, you  <span style=\"color: #7f7f7f; text-decoration-color: #7f7f7f\">visualisation.py:36</span>\n",
       "<span style=\"color: #7fbfbf; text-decoration-color: #7fbfbf\">                    </span>         need to install: pytorch3d                                         <span style=\"color: #7f7f7f; text-decoration-color: #7f7f7f\">                   </span>\n",
       "<span style=\"color: #7fbfbf; text-decoration-color: #7fbfbf\">                    </span>         pytorch3d cannot be installed via pip                              <span style=\"color: #7f7f7f; text-decoration-color: #7f7f7f\">                   </span>\n",
       "</pre>\n"
      ],
      "text/plain": [
       "\u001b[2;36m                   \u001b[0m\u001b[2;36m \u001b[0m\u001b[31mWARNING \u001b[0m To use the Graphein submodule graphein.protein.visualisation, you  \u001b[2mvisualisation.py\u001b[0m\u001b[2m:\u001b[0m\u001b[2m36\u001b[0m\n",
       "\u001b[2;36m                    \u001b[0m         need to install: pytorch3d                                         \u001b[2m                   \u001b[0m\n",
       "\u001b[2;36m                    \u001b[0m         pytorch3d cannot be installed via pip                              \u001b[2m                   \u001b[0m\n"
      ]
     },
     "metadata": {},
     "output_type": "display_data"
    },
    {
     "data": {
      "text/html": [
       "<pre style=\"white-space:pre;overflow-x:auto;line-height:normal;font-family:Menlo,'DejaVu Sans Mono',consolas,'Courier New',monospace\"><span style=\"color: #7fbfbf; text-decoration-color: #7fbfbf\">                    </span><span style=\"color: #800000; text-decoration-color: #800000\">WARNING </span> To use the Graphein submodule graphein.protein.meshes, you need to        <span style=\"color: #7f7f7f; text-decoration-color: #7f7f7f\">meshes.py:30</span>\n",
       "<span style=\"color: #7fbfbf; text-decoration-color: #7fbfbf\">                    </span>         install: pytorch3d                                                        <span style=\"color: #7f7f7f; text-decoration-color: #7f7f7f\">            </span>\n",
       "<span style=\"color: #7fbfbf; text-decoration-color: #7fbfbf\">                    </span>         To do so, use the following command: pip install pytorch3d                <span style=\"color: #7f7f7f; text-decoration-color: #7f7f7f\">            </span>\n",
       "</pre>\n"
      ],
      "text/plain": [
       "\u001b[2;36m                   \u001b[0m\u001b[2;36m \u001b[0m\u001b[31mWARNING \u001b[0m To use the Graphein submodule graphein.protein.meshes, you need to        \u001b[2mmeshes.py\u001b[0m\u001b[2m:\u001b[0m\u001b[2m30\u001b[0m\n",
       "\u001b[2;36m                    \u001b[0m         install: pytorch3d                                                        \u001b[2m            \u001b[0m\n",
       "\u001b[2;36m                    \u001b[0m         To do so, use the following command: pip install pytorch3d                \u001b[2m            \u001b[0m\n"
      ]
     },
     "metadata": {},
     "output_type": "display_data"
    }
   ],
   "source": [
    "# Module Imports\n",
    "from modules.utils.read_and_sample_molecules import sample_graphs_from_smiles_csv\n",
    "from modules.utils.molecular_data_conversion import graph_to_smiles, smiles_to_graph\n",
    "from modules.visualisation.visualising_chemical_space import applying_graph_kernel_to_molecules, applying_smiles_kernel_to_molecules, graph_chemical_space, pca_df, tsne_df, applying_kernel_and_graphing"
   ]
  },
  {
   "cell_type": "markdown",
   "metadata": {},
   "source": [
    "### Specifications"
   ]
  },
  {
   "cell_type": "code",
   "execution_count": 4,
   "metadata": {},
   "outputs": [],
   "source": [
    "path_to_csv = \"data/SMILES_for_graph_kernel_testing.csv\"\n",
    "\n",
    "kernel = WeisfeilerLehmanKernel\n",
    "\n",
    "number_of_dimensions = 2\n",
    "\n",
    "# Options are either 'pca' or 'tsne'\n",
    "dim_reduction = 'pca'"
   ]
  },
  {
   "cell_type": "markdown",
   "metadata": {},
   "source": [
    "## Experiment"
   ]
  },
  {
   "cell_type": "code",
   "execution_count": 5,
   "metadata": {},
   "outputs": [
    {
     "name": "stdout",
     "output_type": "stream",
     "text": [
      "0     [139.94658, 110.91511, 174.93323, 174.93323, 1...\n",
      "1     [110.91511, 136.969, 173.44443, 173.44443, 109...\n",
      "2     [174.93323, 173.44443, 326.04575, 297.75867, 1...\n",
      "3     [174.93323, 173.44443, 297.75867, 326.04575, 1...\n",
      "4     [110.91511, 109.426315, 173.44443, 176.42201, ...\n",
      "5     [174.93323, 176.42201, 297.75867, 297.75867, 1...\n",
      "6     [176.42201, 174.93323, 299.24747, 299.24747, 1...\n",
      "7     [183.12158, 178.65521, 302.96945, 302.96945, 1...\n",
      "8     [186.84357, 185.35478, 317.11298, 317.11298, 1...\n",
      "9     [110.91511, 109.426315, 176.42201, 173.44443, ...\n",
      "10    [112.4039, 110.91511, 174.93323, 174.93323, 11...\n",
      "11    [121.33666, 119.84787, 197.26512, 197.26512, 1...\n",
      "12    [121.33666, 111.6595, 183.12158, 183.12158, 11...\n",
      "13    [110.91511, 119.10347, 181.6328, 181.6328, 110...\n",
      "14    [174.93323, 174.18883, 315.6242, 295.52548, 17...\n",
      "15    [174.93323, 174.18883, 295.52548, 315.6242, 17...\n",
      "16    [110.91511, 110.17071, 181.6328, 184.61038, 11...\n",
      "17    [174.93323, 177.16641, 295.52548, 295.52548, 1...\n",
      "18    [176.42201, 175.67761, 297.01428, 297.01428, 1...\n",
      "19    [183.12158, 179.3996, 300.73627, 300.73627, 17...\n",
      "20    [186.84357, 186.09917, 314.8798, 314.8798, 186...\n",
      "21    [110.91511, 110.17071, 184.61038, 181.6328, 11...\n",
      "22    [112.4039, 111.6595, 183.12158, 183.12158, 111...\n",
      "23    [121.33666, 120.59226, 200.9871, 200.9871, 120...\n",
      "Name: kernel_data, dtype: object\n"
     ]
    }
   ],
   "source": [
    "# Load csv as a pandas dataframe\n",
    "df = pd.read_csv(path_to_csv)\n",
    "\n",
    "df['graph'] = [smiles_to_graph(smiles) for smiles in df['SMILES']]\n",
    "\n",
    "df = applying_graph_kernel_to_molecules(df, kernel, 'graph')\n",
    "print(df['kernel_data'])"
   ]
  },
  {
   "cell_type": "code",
   "execution_count": 6,
   "metadata": {},
   "outputs": [
    {
     "data": {
      "application/vnd.plotly.v1+json": {
       "config": {
        "plotlyServerURL": "https://plot.ly"
       },
       "data": [
        {
         "customdata": [
          [
           "CC1=C(C(=O)NC2=CC=CC=C21)N"
          ],
          [
           "CC1=C(C(=O)NC2=CC=CC=C21)Br"
          ],
          [
           "CC1=C(C(=O)NC2=CC=CC=C21)Cl"
          ],
          [
           "CC1=C(C(=O)NC2=CC=CC=C21)F"
          ],
          [
           "CC1=C(C(=O)NC2=CC=CC=C21)O"
          ],
          [
           "CC1=C(C(=O)NC2=CC=CC=C21)C"
          ]
         ],
         "hovertemplate": "colour_col=Aromatic + No Benzene<br>Component 1=%{x}<br>Component 2=%{y}<br>SMILES=%{customdata[0]}<extra></extra>",
         "legendgroup": "Aromatic + No Benzene",
         "marker": {
          "color": "#636efa",
          "symbol": "circle"
         },
         "mode": "markers",
         "name": "Aromatic + No Benzene",
         "orientation": "v",
         "showlegend": true,
         "type": "scatter",
         "x": [
          -304.7208566838938,
          -309.8157954591903,
          -309.8157954591903,
          -309.8157954591903,
          -302.8510114734854,
          -222.751255482156
         ],
         "xaxis": "x",
         "y": [
          23.498655151032853,
          20.47633139383161,
          20.476331393831575,
          20.47633139383158,
          20.810050160936015,
          29.457936060707873
         ],
         "yaxis": "y"
        },
        {
         "customdata": [
          [
           "CC1=C(C(=O)NC2=CC=CC=C21)C3=CC=CC=C3F"
          ],
          [
           "CC1=C(C(=O)NC2=CC=CC=C21)C3=CC=CC=C3Cl"
          ],
          [
           "CC1=C(C(=O)NC2=CC=CC=C21)C3=CC=CC=C3Br"
          ],
          [
           "CC1=C(C(=O)NC2=CC=CC=C21)C3=CC=CC=C3O"
          ],
          [
           "CC1=C(C(=O)NC2=CC=CC=C21)C3=CC=CC=C3N"
          ],
          [
           "CC1=C(C(=O)NC2=CC=CC=C21)C3=CC=CC=C3C"
          ]
         ],
         "hovertemplate": "colour_col=Aromatic + Benzene<br>Component 1=%{x}<br>Component 2=%{y}<br>SMILES=%{customdata[0]}<extra></extra>",
         "legendgroup": "Aromatic + Benzene",
         "marker": {
          "color": "#EF553B",
          "symbol": "circle"
         },
         "mode": "markers",
         "name": "Aromatic + Benzene",
         "orientation": "v",
         "showlegend": true,
         "type": "scatter",
         "x": [
          189.14284597616827,
          189.14284597616827,
          189.14284597616827,
          196.11204492836654,
          202.32368878926675,
          281.5290453357785
         ],
         "xaxis": "x",
         "y": [
          48.78531532415696,
          48.785315324156954,
          48.785315324156954,
          49.129365675212085,
          63.86629031209947,
          38.707866261847485
         ],
         "yaxis": "y"
        },
        {
         "customdata": [
          [
           "CC1C(C(=O)NCC2CCCCC21)N"
          ],
          [
           "CC1C(C(=O)NCC2CCCCC21)Br"
          ],
          [
           "CC1C(C(=O)NCC2CCCCC21)Cl"
          ],
          [
           "CC1C(C(=O)NCC2CCCCC21)F"
          ],
          [
           "CC1C(C(=O)NCC2CCCCC21)O"
          ],
          [
           "CC1C(C(=O)NCC2CCCCC21)C"
          ]
         ],
         "hovertemplate": "colour_col=No Aromatic + No Benzene<br>Component 1=%{x}<br>Component 2=%{y}<br>SMILES=%{customdata[0]}<extra></extra>",
         "legendgroup": "No Aromatic + No Benzene",
         "marker": {
          "color": "#00cc96",
          "symbol": "circle"
         },
         "mode": "markers",
         "name": "No Aromatic + No Benzene",
         "orientation": "v",
         "showlegend": true,
         "type": "scatter",
         "x": [
          -221.47191449066153,
          -226.56683672109915,
          -226.56683672109918,
          -226.56683672109918,
          -219.60165931951053,
          -137.47881647719328
         ],
         "xaxis": "x",
         "y": [
          -31.847616454939825,
          -34.89559780533796,
          -34.89559780533798,
          -34.89559780533797,
          -34.560950808099236,
          -41.04057625786131
         ],
         "yaxis": "y"
        },
        {
         "customdata": [
          [
           "CC1C(C(=O)NCC2CCCCC21)C3CCCCC3F"
          ],
          [
           "CC1C(C(=O)NCC2CCCCC21)C3CCCCC3Cl"
          ],
          [
           "CC1C(C(=O)NCC2CCCCC21)C3CCCCC3Br"
          ],
          [
           "CC1C(C(=O)NCC2CCCCC21)C3CCCCC3O"
          ],
          [
           "CC1C(C(=O)NCC2CCCCC21)C3CCCCC3N"
          ],
          [
           "CC1C(C(=O)NCC2CCCCC21)C3CCCCC3C"
          ]
         ],
         "hovertemplate": "colour_col=No Aromatic + Benzene<br>Component 1=%{x}<br>Component 2=%{y}<br>SMILES=%{customdata[0]}<extra></extra>",
         "legendgroup": "No Aromatic + Benzene",
         "marker": {
          "color": "#ab63fa",
          "symbol": "circle"
         },
         "mode": "markers",
         "name": "No Aromatic + Benzene",
         "orientation": "v",
         "showlegend": true,
         "type": "scatter",
         "x": [
          276.34897000036443,
          276.34897000036443,
          276.3489700003645,
          283.3181644443397,
          289.52984820929873,
          368.73517083112114
         ],
         "xaxis": "x",
         "y": [
          -37.744447273856075,
          -37.74444727385605,
          -37.744447273856075,
          -37.400420219384635,
          -22.663511778206114,
          -47.82189301972839
         ],
         "yaxis": "y"
        }
       ],
       "layout": {
        "legend": {
         "title": {
          "text": "colour_col"
         },
         "tracegroupgap": 0
        },
        "margin": {
         "t": 60
        },
        "template": {
         "data": {
          "bar": [
           {
            "error_x": {
             "color": "#2a3f5f"
            },
            "error_y": {
             "color": "#2a3f5f"
            },
            "marker": {
             "line": {
              "color": "#E5ECF6",
              "width": 0.5
             },
             "pattern": {
              "fillmode": "overlay",
              "size": 10,
              "solidity": 0.2
             }
            },
            "type": "bar"
           }
          ],
          "barpolar": [
           {
            "marker": {
             "line": {
              "color": "#E5ECF6",
              "width": 0.5
             },
             "pattern": {
              "fillmode": "overlay",
              "size": 10,
              "solidity": 0.2
             }
            },
            "type": "barpolar"
           }
          ],
          "carpet": [
           {
            "aaxis": {
             "endlinecolor": "#2a3f5f",
             "gridcolor": "white",
             "linecolor": "white",
             "minorgridcolor": "white",
             "startlinecolor": "#2a3f5f"
            },
            "baxis": {
             "endlinecolor": "#2a3f5f",
             "gridcolor": "white",
             "linecolor": "white",
             "minorgridcolor": "white",
             "startlinecolor": "#2a3f5f"
            },
            "type": "carpet"
           }
          ],
          "choropleth": [
           {
            "colorbar": {
             "outlinewidth": 0,
             "ticks": ""
            },
            "type": "choropleth"
           }
          ],
          "contour": [
           {
            "colorbar": {
             "outlinewidth": 0,
             "ticks": ""
            },
            "colorscale": [
             [
              0,
              "#0d0887"
             ],
             [
              0.1111111111111111,
              "#46039f"
             ],
             [
              0.2222222222222222,
              "#7201a8"
             ],
             [
              0.3333333333333333,
              "#9c179e"
             ],
             [
              0.4444444444444444,
              "#bd3786"
             ],
             [
              0.5555555555555556,
              "#d8576b"
             ],
             [
              0.6666666666666666,
              "#ed7953"
             ],
             [
              0.7777777777777778,
              "#fb9f3a"
             ],
             [
              0.8888888888888888,
              "#fdca26"
             ],
             [
              1,
              "#f0f921"
             ]
            ],
            "type": "contour"
           }
          ],
          "contourcarpet": [
           {
            "colorbar": {
             "outlinewidth": 0,
             "ticks": ""
            },
            "type": "contourcarpet"
           }
          ],
          "heatmap": [
           {
            "colorbar": {
             "outlinewidth": 0,
             "ticks": ""
            },
            "colorscale": [
             [
              0,
              "#0d0887"
             ],
             [
              0.1111111111111111,
              "#46039f"
             ],
             [
              0.2222222222222222,
              "#7201a8"
             ],
             [
              0.3333333333333333,
              "#9c179e"
             ],
             [
              0.4444444444444444,
              "#bd3786"
             ],
             [
              0.5555555555555556,
              "#d8576b"
             ],
             [
              0.6666666666666666,
              "#ed7953"
             ],
             [
              0.7777777777777778,
              "#fb9f3a"
             ],
             [
              0.8888888888888888,
              "#fdca26"
             ],
             [
              1,
              "#f0f921"
             ]
            ],
            "type": "heatmap"
           }
          ],
          "heatmapgl": [
           {
            "colorbar": {
             "outlinewidth": 0,
             "ticks": ""
            },
            "colorscale": [
             [
              0,
              "#0d0887"
             ],
             [
              0.1111111111111111,
              "#46039f"
             ],
             [
              0.2222222222222222,
              "#7201a8"
             ],
             [
              0.3333333333333333,
              "#9c179e"
             ],
             [
              0.4444444444444444,
              "#bd3786"
             ],
             [
              0.5555555555555556,
              "#d8576b"
             ],
             [
              0.6666666666666666,
              "#ed7953"
             ],
             [
              0.7777777777777778,
              "#fb9f3a"
             ],
             [
              0.8888888888888888,
              "#fdca26"
             ],
             [
              1,
              "#f0f921"
             ]
            ],
            "type": "heatmapgl"
           }
          ],
          "histogram": [
           {
            "marker": {
             "pattern": {
              "fillmode": "overlay",
              "size": 10,
              "solidity": 0.2
             }
            },
            "type": "histogram"
           }
          ],
          "histogram2d": [
           {
            "colorbar": {
             "outlinewidth": 0,
             "ticks": ""
            },
            "colorscale": [
             [
              0,
              "#0d0887"
             ],
             [
              0.1111111111111111,
              "#46039f"
             ],
             [
              0.2222222222222222,
              "#7201a8"
             ],
             [
              0.3333333333333333,
              "#9c179e"
             ],
             [
              0.4444444444444444,
              "#bd3786"
             ],
             [
              0.5555555555555556,
              "#d8576b"
             ],
             [
              0.6666666666666666,
              "#ed7953"
             ],
             [
              0.7777777777777778,
              "#fb9f3a"
             ],
             [
              0.8888888888888888,
              "#fdca26"
             ],
             [
              1,
              "#f0f921"
             ]
            ],
            "type": "histogram2d"
           }
          ],
          "histogram2dcontour": [
           {
            "colorbar": {
             "outlinewidth": 0,
             "ticks": ""
            },
            "colorscale": [
             [
              0,
              "#0d0887"
             ],
             [
              0.1111111111111111,
              "#46039f"
             ],
             [
              0.2222222222222222,
              "#7201a8"
             ],
             [
              0.3333333333333333,
              "#9c179e"
             ],
             [
              0.4444444444444444,
              "#bd3786"
             ],
             [
              0.5555555555555556,
              "#d8576b"
             ],
             [
              0.6666666666666666,
              "#ed7953"
             ],
             [
              0.7777777777777778,
              "#fb9f3a"
             ],
             [
              0.8888888888888888,
              "#fdca26"
             ],
             [
              1,
              "#f0f921"
             ]
            ],
            "type": "histogram2dcontour"
           }
          ],
          "mesh3d": [
           {
            "colorbar": {
             "outlinewidth": 0,
             "ticks": ""
            },
            "type": "mesh3d"
           }
          ],
          "parcoords": [
           {
            "line": {
             "colorbar": {
              "outlinewidth": 0,
              "ticks": ""
             }
            },
            "type": "parcoords"
           }
          ],
          "pie": [
           {
            "automargin": true,
            "type": "pie"
           }
          ],
          "scatter": [
           {
            "fillpattern": {
             "fillmode": "overlay",
             "size": 10,
             "solidity": 0.2
            },
            "type": "scatter"
           }
          ],
          "scatter3d": [
           {
            "line": {
             "colorbar": {
              "outlinewidth": 0,
              "ticks": ""
             }
            },
            "marker": {
             "colorbar": {
              "outlinewidth": 0,
              "ticks": ""
             }
            },
            "type": "scatter3d"
           }
          ],
          "scattercarpet": [
           {
            "marker": {
             "colorbar": {
              "outlinewidth": 0,
              "ticks": ""
             }
            },
            "type": "scattercarpet"
           }
          ],
          "scattergeo": [
           {
            "marker": {
             "colorbar": {
              "outlinewidth": 0,
              "ticks": ""
             }
            },
            "type": "scattergeo"
           }
          ],
          "scattergl": [
           {
            "marker": {
             "colorbar": {
              "outlinewidth": 0,
              "ticks": ""
             }
            },
            "type": "scattergl"
           }
          ],
          "scattermapbox": [
           {
            "marker": {
             "colorbar": {
              "outlinewidth": 0,
              "ticks": ""
             }
            },
            "type": "scattermapbox"
           }
          ],
          "scatterpolar": [
           {
            "marker": {
             "colorbar": {
              "outlinewidth": 0,
              "ticks": ""
             }
            },
            "type": "scatterpolar"
           }
          ],
          "scatterpolargl": [
           {
            "marker": {
             "colorbar": {
              "outlinewidth": 0,
              "ticks": ""
             }
            },
            "type": "scatterpolargl"
           }
          ],
          "scatterternary": [
           {
            "marker": {
             "colorbar": {
              "outlinewidth": 0,
              "ticks": ""
             }
            },
            "type": "scatterternary"
           }
          ],
          "surface": [
           {
            "colorbar": {
             "outlinewidth": 0,
             "ticks": ""
            },
            "colorscale": [
             [
              0,
              "#0d0887"
             ],
             [
              0.1111111111111111,
              "#46039f"
             ],
             [
              0.2222222222222222,
              "#7201a8"
             ],
             [
              0.3333333333333333,
              "#9c179e"
             ],
             [
              0.4444444444444444,
              "#bd3786"
             ],
             [
              0.5555555555555556,
              "#d8576b"
             ],
             [
              0.6666666666666666,
              "#ed7953"
             ],
             [
              0.7777777777777778,
              "#fb9f3a"
             ],
             [
              0.8888888888888888,
              "#fdca26"
             ],
             [
              1,
              "#f0f921"
             ]
            ],
            "type": "surface"
           }
          ],
          "table": [
           {
            "cells": {
             "fill": {
              "color": "#EBF0F8"
             },
             "line": {
              "color": "white"
             }
            },
            "header": {
             "fill": {
              "color": "#C8D4E3"
             },
             "line": {
              "color": "white"
             }
            },
            "type": "table"
           }
          ]
         },
         "layout": {
          "annotationdefaults": {
           "arrowcolor": "#2a3f5f",
           "arrowhead": 0,
           "arrowwidth": 1
          },
          "autotypenumbers": "strict",
          "coloraxis": {
           "colorbar": {
            "outlinewidth": 0,
            "ticks": ""
           }
          },
          "colorscale": {
           "diverging": [
            [
             0,
             "#8e0152"
            ],
            [
             0.1,
             "#c51b7d"
            ],
            [
             0.2,
             "#de77ae"
            ],
            [
             0.3,
             "#f1b6da"
            ],
            [
             0.4,
             "#fde0ef"
            ],
            [
             0.5,
             "#f7f7f7"
            ],
            [
             0.6,
             "#e6f5d0"
            ],
            [
             0.7,
             "#b8e186"
            ],
            [
             0.8,
             "#7fbc41"
            ],
            [
             0.9,
             "#4d9221"
            ],
            [
             1,
             "#276419"
            ]
           ],
           "sequential": [
            [
             0,
             "#0d0887"
            ],
            [
             0.1111111111111111,
             "#46039f"
            ],
            [
             0.2222222222222222,
             "#7201a8"
            ],
            [
             0.3333333333333333,
             "#9c179e"
            ],
            [
             0.4444444444444444,
             "#bd3786"
            ],
            [
             0.5555555555555556,
             "#d8576b"
            ],
            [
             0.6666666666666666,
             "#ed7953"
            ],
            [
             0.7777777777777778,
             "#fb9f3a"
            ],
            [
             0.8888888888888888,
             "#fdca26"
            ],
            [
             1,
             "#f0f921"
            ]
           ],
           "sequentialminus": [
            [
             0,
             "#0d0887"
            ],
            [
             0.1111111111111111,
             "#46039f"
            ],
            [
             0.2222222222222222,
             "#7201a8"
            ],
            [
             0.3333333333333333,
             "#9c179e"
            ],
            [
             0.4444444444444444,
             "#bd3786"
            ],
            [
             0.5555555555555556,
             "#d8576b"
            ],
            [
             0.6666666666666666,
             "#ed7953"
            ],
            [
             0.7777777777777778,
             "#fb9f3a"
            ],
            [
             0.8888888888888888,
             "#fdca26"
            ],
            [
             1,
             "#f0f921"
            ]
           ]
          },
          "colorway": [
           "#636efa",
           "#EF553B",
           "#00cc96",
           "#ab63fa",
           "#FFA15A",
           "#19d3f3",
           "#FF6692",
           "#B6E880",
           "#FF97FF",
           "#FECB52"
          ],
          "font": {
           "color": "#2a3f5f"
          },
          "geo": {
           "bgcolor": "white",
           "lakecolor": "white",
           "landcolor": "#E5ECF6",
           "showlakes": true,
           "showland": true,
           "subunitcolor": "white"
          },
          "hoverlabel": {
           "align": "left"
          },
          "hovermode": "closest",
          "mapbox": {
           "style": "light"
          },
          "paper_bgcolor": "white",
          "plot_bgcolor": "#E5ECF6",
          "polar": {
           "angularaxis": {
            "gridcolor": "white",
            "linecolor": "white",
            "ticks": ""
           },
           "bgcolor": "#E5ECF6",
           "radialaxis": {
            "gridcolor": "white",
            "linecolor": "white",
            "ticks": ""
           }
          },
          "scene": {
           "xaxis": {
            "backgroundcolor": "#E5ECF6",
            "gridcolor": "white",
            "gridwidth": 2,
            "linecolor": "white",
            "showbackground": true,
            "ticks": "",
            "zerolinecolor": "white"
           },
           "yaxis": {
            "backgroundcolor": "#E5ECF6",
            "gridcolor": "white",
            "gridwidth": 2,
            "linecolor": "white",
            "showbackground": true,
            "ticks": "",
            "zerolinecolor": "white"
           },
           "zaxis": {
            "backgroundcolor": "#E5ECF6",
            "gridcolor": "white",
            "gridwidth": 2,
            "linecolor": "white",
            "showbackground": true,
            "ticks": "",
            "zerolinecolor": "white"
           }
          },
          "shapedefaults": {
           "line": {
            "color": "#2a3f5f"
           }
          },
          "ternary": {
           "aaxis": {
            "gridcolor": "white",
            "linecolor": "white",
            "ticks": ""
           },
           "baxis": {
            "gridcolor": "white",
            "linecolor": "white",
            "ticks": ""
           },
           "bgcolor": "#E5ECF6",
           "caxis": {
            "gridcolor": "white",
            "linecolor": "white",
            "ticks": ""
           }
          },
          "title": {
           "x": 0.05
          },
          "xaxis": {
           "automargin": true,
           "gridcolor": "white",
           "linecolor": "white",
           "ticks": "",
           "title": {
            "standoff": 15
           },
           "zerolinecolor": "white",
           "zerolinewidth": 2
          },
          "yaxis": {
           "automargin": true,
           "gridcolor": "white",
           "linecolor": "white",
           "ticks": "",
           "title": {
            "standoff": 15
           },
           "zerolinecolor": "white",
           "zerolinewidth": 2
          }
         }
        },
        "xaxis": {
         "anchor": "y",
         "domain": [
          0,
          1
         ],
         "range": [
          -310.8157954591903,
          369.73517083112114
         ],
         "title": {
          "text": "Component 1"
         }
        },
        "yaxis": {
         "anchor": "x",
         "domain": [
          0,
          1
         ],
         "range": [
          -48.82189301972839,
          64.86629031209947
         ],
         "title": {
          "text": "Component 2"
         }
        }
       }
      }
     },
     "metadata": {},
     "output_type": "display_data"
    }
   ],
   "source": [
    "assert number_of_dimensions in [2, 3], \"Please enter a valid number of dimensions of either 2 or 3\"   \n",
    "    \n",
    "assert dim_reduction in [\"pca\", \"tsne\"], \"Please enter a valid dimension reduction technique\"\n",
    "if dim_reduction == \"pca\":\n",
    "    dim_reduction_function = pca_df\n",
    "elif dim_reduction == \"tsne\":\n",
    "    dim_reduction_function = tsne_df\n",
    "\n",
    "if number_of_dimensions == 2:\n",
    "    if dim_reduction == \"pca\":\n",
    "        reduced_data = pca_df(list(df[\"kernel_data\"]), output_dims=2)\n",
    "        df[\"Component 1\"] = reduced_data[\"Component 1\"]\n",
    "        df[\"Component 2\"] = reduced_data[\"Component 2\"]\n",
    "    else:\n",
    "        reduced_data = tsne_df(list(df[\"kernel_data\"]), output_dims=2, pca_components=15, perplexity=10)\n",
    "        df[\"Component 1\"] = reduced_data[\"Component 1\"]\n",
    "        df[\"Component 2\"] = reduced_data[\"Component 2\"]\n",
    "    \n",
    "    # Adding one to the min and max values to make the graph look better\n",
    "    min_component_1 = min(df[\"Component 1\"]) -1\n",
    "    max_component_1 = max(df[\"Component 1\"]) +1\n",
    "    min_component_2 = min(df[\"Component 2\"]) -1\n",
    "    max_component_2 = max(df[\"Component 2\"]) +1\n",
    "    \n",
    "    fig = px.scatter(df, x=\"Component 1\", y=\"Component 2\", \n",
    "                        color=\"colour_col\",\n",
    "                        hover_data=[\"SMILES\"],\n",
    "                        range_x=[min_component_1, max_component_1],\n",
    "                        range_y=[min_component_2, max_component_2])\n",
    "    \n",
    "\n",
    "if number_of_dimensions == 3:\n",
    "    if dim_reduction == \"pca\":\n",
    "        reduced_data = pca_df(list(df[\"kernel_data\"]), output_dims=3)\n",
    "        df[\"Component 1\"] = reduced_data[\"Component 1\"]\n",
    "        df[\"Component 2\"] = reduced_data[\"Component 2\"]\n",
    "        df[\"Component 3\"] = reduced_data[\"Component 3\"]\n",
    "    else:\n",
    "        reduced_data = tsne_df(list(df[\"kernel_data\"]), output_dims=3, pca_components=15, perplexity=10)\n",
    "        df[\"Component 1\"] = reduced_data[\"Component 1\"]\n",
    "        df[\"Component 2\"] = reduced_data[\"Component 2\"]\n",
    "        df[\"Component 3\"] = reduced_data[\"Component 3\"]\n",
    "    \n",
    "\n",
    "    min_component_1 = min(df[\"Component 1\"]) -1\n",
    "    max_component_1 = max(df[\"Component 1\"]) +1\n",
    "    min_component_2 = min(df[\"Component 2\"]) -1\n",
    "    max_component_2 = max(df[\"Component 2\"]) +1\n",
    "    min_component_3 = min(df[\"Component 3\"]) -1\n",
    "    max_component_3 = max(df[\"Component 3\"]) +1\n",
    "    \n",
    "    fig = px.scatter_3d(df, x=\"Component 1\", y=\"Component 2\", z = \"Component 3\",\n",
    "                        color=\"colour_col\",\n",
    "                        hover_data=[\"SMILES\"],\n",
    "                        range_x=[min_component_1, max_component_1],\n",
    "                        range_y=[min_component_2, max_component_2],\n",
    "                        range_z=[min_component_3, max_component_3])\n",
    "    \n",
    "fig.show()"
   ]
  },
  {
   "cell_type": "markdown",
   "metadata": {},
   "source": [
    "### PCA"
   ]
  },
  {
   "cell_type": "code",
   "execution_count": null,
   "metadata": {},
   "outputs": [],
   "source": [
    "if dim_reduction == \"pca\":\n",
    "    dim_reduction_function = pca_df\n",
    "elif dim_reduction == \"tsne\":\n",
    "    dim_reduction_function = tsne_df"
   ]
  },
  {
   "cell_type": "code",
   "execution_count": null,
   "metadata": {},
   "outputs": [],
   "source": [
    "# Adding one to the min and max values to make the graph look better\n",
    "min_component_1 = min(df[\"Component 1\"]) -1\n",
    "max_component_1 = max(df[\"Component 1\"]) +1\n",
    "min_component_2 = min(df[\"Component 2\"]) -1\n",
    "max_component_2 = max(df[\"Component 2\"]) +1\n",
    "\n",
    "fig = px.scatter(df, x=\"Component 1\", y=\"Component 2\", \n",
    "                    range_x=[min_component_1, max_component_1],\n",
    "                    range_y=[min_component_2, max_component_2],\n",
    "                    color = \"colour_col\")\n",
    "\n",
    "fig.show()"
   ]
  },
  {
   "cell_type": "markdown",
   "metadata": {},
   "source": [
    "### TSNE"
   ]
  },
  {
   "cell_type": "code",
   "execution_count": null,
   "metadata": {},
   "outputs": [],
   "source": [
    "dim_reduction = 'tsne'\n",
    "if dim_reduction == \"pca\":\n",
    "    reduced_data = pca_df(list(df[\"kernel_data\"]), output_dims=2)\n",
    "elif dim_reduction == \"tsne\":\n",
    "    reduced_data = tsne_df(list(df[\"kernel_data\"]), output_dims=2,\n",
    "                                     pca_components=10, perplexity = 10)\n",
    "\n",
    "print(reduced_data.shape)\n",
    "print(df.shape)\n",
    "\n",
    "df[\"Component 1\"] = reduced_data[\"Component 1\"]\n",
    "df[\"Component 2\"] = reduced_data[\"Component 2\"]\n",
    "print(df.head())"
   ]
  },
  {
   "cell_type": "code",
   "execution_count": null,
   "metadata": {},
   "outputs": [],
   "source": [
    "# Adding one to the min and max values to make the graph look better\n",
    "min_component_1 = min(df[\"Component 1\"]) -1\n",
    "max_component_1 = max(df[\"Component 1\"]) +1\n",
    "min_component_2 = min(df[\"Component 2\"]) -1\n",
    "max_component_2 = max(df[\"Component 2\"]) +1\n",
    "\n",
    "fig = px.scatter(df, x=\"Component 1\", y=\"Component 2\", \n",
    "                    range_x=[min_component_1, max_component_1],\n",
    "                    range_y=[min_component_2, max_component_2],\n",
    "                    color = \"colour_col\")\n",
    "\n",
    "fig.show()"
   ]
  },
  {
   "cell_type": "code",
   "execution_count": null,
   "metadata": {},
   "outputs": [],
   "source": []
  }
 ],
 "metadata": {
  "kernelspec": {
   "display_name": "bo_mol_venv",
   "language": "python",
   "name": "python3"
  },
  "language_info": {
   "codemirror_mode": {
    "name": "ipython",
    "version": 3
   },
   "file_extension": ".py",
   "mimetype": "text/x-python",
   "name": "python",
   "nbconvert_exporter": "python",
   "pygments_lexer": "ipython3",
   "version": "3.10.8"
  }
 },
 "nbformat": 4,
 "nbformat_minor": 2
}
